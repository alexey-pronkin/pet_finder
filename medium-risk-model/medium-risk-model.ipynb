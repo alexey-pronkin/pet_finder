{
 "cells": [
  {
   "cell_type": "code",
   "execution_count": 1,
   "metadata": {
    "_uuid": "a194102854a9eaec85445c81d0621d55f1476560"
   },
   "outputs": [
    {
     "name": "stdout",
     "output_type": "stream",
     "text": [
      "['intermediate-data', 'test-features-from-images', 'features-from-images', 'petfinder-adoption-prediction', 'test-fetures-from-resnet101']\n"
     ]
    }
   ],
   "source": [
    "import numpy as np\n",
    "import pandas as pd\n",
    "import re\n",
    "import json\n",
    "import glob\n",
    "from PIL import Image\n",
    "\n",
    "#import warnings\n",
    "#warnings.filterwarnings('ignore')\n",
    "\n",
    "from sklearn.decomposition import TruncatedSVD, PCA\n",
    "from sklearn.feature_extraction.text import *\n",
    "from sklearn.pipeline import *\n",
    "from sklearn.preprocessing import Normalizer, LabelEncoder\n",
    "from sklearn.feature_extraction.text import TfidfVectorizer, CountVectorizer\n",
    "from sklearn.preprocessing import LabelEncoder\n",
    "from category_encoders import TargetEncoder\n",
    "from sklearn.model_selection import KFold, StratifiedKFold\n",
    "\n",
    "from nltk.corpus import stopwords\n",
    "import nltk\n",
    "from nltk.tokenize import word_tokenize\n",
    "from nltk.stem import PorterStemmer\n",
    "from collections import Counter\n",
    "from joblib import Parallel, delayed\n",
    "\n",
    "import matplotlib.pyplot as plt\n",
    "%matplotlib inline\n",
    "\n",
    "import pickle\n",
    "import xgboost as xgb\n",
    "from hyperopt import hp, tpe, Trials, STATUS_OK\n",
    "from hyperopt.fmin import fmin\n",
    "\n",
    "#https://www.kaggle.com/sudalairajkumar/getting-started-with-h2o\n",
    "#import h2o\n",
    "#h2o.init()\n",
    "\n",
    "import os\n",
    "print(os.listdir(\"../input\"))\n",
    "\n",
    "from sklearn.model_selection import KFold\n",
    "from sklearn import model_selection\n",
    "from sklearn.metrics import cohen_kappa_score, make_scorer\n",
    "import lightgbm as lgb\n",
    "\n",
    "# import fastai.vision as fv\n",
    "# from fastai import version\n",
    "# from fastai.torch_core import *\n",
    "# from fastai.vision.image import *\n",
    "# from fastai.vision.transform import *\n",
    "# from fastai.data_block import *\n",
    "# from fastai.basic_data import *\n",
    "# from fastai.layers import *\n",
    "# from fastai.vision.learner import *\n",
    "# from torchvision import transforms as tvt\n",
    "\n",
    "# __all__ = ['get_image_files', 'denormalize', 'get_annotations', 'ImageDataBunch',\n",
    "#            'ImageList', 'normalize', 'normalize_funcs', 'resize_to',\n",
    "#            'channel_view', 'mnist_stats', 'cifar_stats', 'imagenet_stats', 'download_images',\n",
    "#            'verify_images', 'bb_pad_collate', 'ImageImageList', 'PointsLabelList',\n",
    "#            'ObjectCategoryList', 'ObjectItemList', 'SegmentationLabelList', 'SegmentationItemList', 'PointsItemList']\n",
    "# print(\"fastai version is {}\".format(version.__version__))\n"
   ]
  },
  {
   "cell_type": "markdown",
   "metadata": {
    "_uuid": "4eae016d031e6e6214b9df562df2deb65a001d82"
   },
   "source": [
    "Downloading datasets"
   ]
  },
  {
   "cell_type": "code",
   "execution_count": 2,
   "metadata": {
    "_uuid": "54985b02f752cd86dd2a39ac261281573ca9e81d",
    "scrolled": true
   },
   "outputs": [],
   "source": [
    "PATH = '../input/petfinder-adoption-prediction/'\n",
    "\n",
    "train = pd.read_csv(PATH+'train/train.csv')\n",
    "test = pd.read_csv(PATH+'test/test.csv')\n",
    "sample_submission = pd.read_csv(PATH+'test/sample_submission.csv')"
   ]
  },
  {
   "cell_type": "code",
   "execution_count": 3,
   "metadata": {
    "_uuid": "f10b41903f4d8890141a8934e4306e477973c903"
   },
   "outputs": [
    {
     "data": {
      "text/html": [
       "<div>\n",
       "<style scoped>\n",
       "    .dataframe tbody tr th:only-of-type {\n",
       "        vertical-align: middle;\n",
       "    }\n",
       "\n",
       "    .dataframe tbody tr th {\n",
       "        vertical-align: top;\n",
       "    }\n",
       "\n",
       "    .dataframe thead th {\n",
       "        text-align: right;\n",
       "    }\n",
       "</style>\n",
       "<table border=\"1\" class=\"dataframe\">\n",
       "  <thead>\n",
       "    <tr style=\"text-align: right;\">\n",
       "      <th></th>\n",
       "      <th>Type</th>\n",
       "      <th>Name</th>\n",
       "      <th>Age</th>\n",
       "      <th>Breed1</th>\n",
       "      <th>Breed2</th>\n",
       "      <th>Gender</th>\n",
       "      <th>Color1</th>\n",
       "      <th>Color2</th>\n",
       "      <th>Color3</th>\n",
       "      <th>MaturitySize</th>\n",
       "      <th>FurLength</th>\n",
       "      <th>Vaccinated</th>\n",
       "      <th>Dewormed</th>\n",
       "      <th>Sterilized</th>\n",
       "      <th>Health</th>\n",
       "      <th>Quantity</th>\n",
       "      <th>Fee</th>\n",
       "      <th>State</th>\n",
       "      <th>RescuerID</th>\n",
       "      <th>VideoAmt</th>\n",
       "      <th>Description</th>\n",
       "      <th>PetID</th>\n",
       "      <th>PhotoAmt</th>\n",
       "      <th>AdoptionSpeed</th>\n",
       "    </tr>\n",
       "  </thead>\n",
       "  <tbody>\n",
       "    <tr>\n",
       "      <th>0</th>\n",
       "      <td>2</td>\n",
       "      <td>Nibble</td>\n",
       "      <td>3</td>\n",
       "      <td>299</td>\n",
       "      <td>0</td>\n",
       "      <td>1</td>\n",
       "      <td>1</td>\n",
       "      <td>7</td>\n",
       "      <td>0</td>\n",
       "      <td>1</td>\n",
       "      <td>1</td>\n",
       "      <td>2</td>\n",
       "      <td>2</td>\n",
       "      <td>2</td>\n",
       "      <td>1</td>\n",
       "      <td>1</td>\n",
       "      <td>100</td>\n",
       "      <td>41326</td>\n",
       "      <td>8480853f516546f6cf33aa88cd76c379</td>\n",
       "      <td>0</td>\n",
       "      <td>Nibble is a 3+ month old ball of cuteness. He ...</td>\n",
       "      <td>86e1089a3</td>\n",
       "      <td>1.0</td>\n",
       "      <td>2</td>\n",
       "    </tr>\n",
       "    <tr>\n",
       "      <th>1</th>\n",
       "      <td>2</td>\n",
       "      <td>No Name Yet</td>\n",
       "      <td>1</td>\n",
       "      <td>265</td>\n",
       "      <td>0</td>\n",
       "      <td>1</td>\n",
       "      <td>1</td>\n",
       "      <td>2</td>\n",
       "      <td>0</td>\n",
       "      <td>2</td>\n",
       "      <td>2</td>\n",
       "      <td>3</td>\n",
       "      <td>3</td>\n",
       "      <td>3</td>\n",
       "      <td>1</td>\n",
       "      <td>1</td>\n",
       "      <td>0</td>\n",
       "      <td>41401</td>\n",
       "      <td>3082c7125d8fb66f7dd4bff4192c8b14</td>\n",
       "      <td>0</td>\n",
       "      <td>I just found it alone yesterday near my apartm...</td>\n",
       "      <td>6296e909a</td>\n",
       "      <td>2.0</td>\n",
       "      <td>0</td>\n",
       "    </tr>\n",
       "    <tr>\n",
       "      <th>2</th>\n",
       "      <td>1</td>\n",
       "      <td>Brisco</td>\n",
       "      <td>1</td>\n",
       "      <td>307</td>\n",
       "      <td>0</td>\n",
       "      <td>1</td>\n",
       "      <td>2</td>\n",
       "      <td>7</td>\n",
       "      <td>0</td>\n",
       "      <td>2</td>\n",
       "      <td>2</td>\n",
       "      <td>1</td>\n",
       "      <td>1</td>\n",
       "      <td>2</td>\n",
       "      <td>1</td>\n",
       "      <td>1</td>\n",
       "      <td>0</td>\n",
       "      <td>41326</td>\n",
       "      <td>fa90fa5b1ee11c86938398b60abc32cb</td>\n",
       "      <td>0</td>\n",
       "      <td>Their pregnant mother was dumped by her irresp...</td>\n",
       "      <td>3422e4906</td>\n",
       "      <td>7.0</td>\n",
       "      <td>3</td>\n",
       "    </tr>\n",
       "    <tr>\n",
       "      <th>3</th>\n",
       "      <td>1</td>\n",
       "      <td>Miko</td>\n",
       "      <td>4</td>\n",
       "      <td>307</td>\n",
       "      <td>0</td>\n",
       "      <td>2</td>\n",
       "      <td>1</td>\n",
       "      <td>2</td>\n",
       "      <td>0</td>\n",
       "      <td>2</td>\n",
       "      <td>1</td>\n",
       "      <td>1</td>\n",
       "      <td>1</td>\n",
       "      <td>2</td>\n",
       "      <td>1</td>\n",
       "      <td>1</td>\n",
       "      <td>150</td>\n",
       "      <td>41401</td>\n",
       "      <td>9238e4f44c71a75282e62f7136c6b240</td>\n",
       "      <td>0</td>\n",
       "      <td>Good guard dog, very alert, active, obedience ...</td>\n",
       "      <td>5842f1ff5</td>\n",
       "      <td>8.0</td>\n",
       "      <td>2</td>\n",
       "    </tr>\n",
       "    <tr>\n",
       "      <th>4</th>\n",
       "      <td>1</td>\n",
       "      <td>Hunter</td>\n",
       "      <td>1</td>\n",
       "      <td>307</td>\n",
       "      <td>0</td>\n",
       "      <td>1</td>\n",
       "      <td>1</td>\n",
       "      <td>0</td>\n",
       "      <td>0</td>\n",
       "      <td>2</td>\n",
       "      <td>1</td>\n",
       "      <td>2</td>\n",
       "      <td>2</td>\n",
       "      <td>2</td>\n",
       "      <td>1</td>\n",
       "      <td>1</td>\n",
       "      <td>0</td>\n",
       "      <td>41326</td>\n",
       "      <td>95481e953f8aed9ec3d16fc4509537e8</td>\n",
       "      <td>0</td>\n",
       "      <td>This handsome yet cute boy is up for adoption....</td>\n",
       "      <td>850a43f90</td>\n",
       "      <td>3.0</td>\n",
       "      <td>2</td>\n",
       "    </tr>\n",
       "  </tbody>\n",
       "</table>\n",
       "</div>"
      ],
      "text/plain": [
       "   Type         Name  Age      ...            PetID  PhotoAmt  AdoptionSpeed\n",
       "0     2       Nibble    3      ...        86e1089a3       1.0              2\n",
       "1     2  No Name Yet    1      ...        6296e909a       2.0              0\n",
       "2     1       Brisco    1      ...        3422e4906       7.0              3\n",
       "3     1         Miko    4      ...        5842f1ff5       8.0              2\n",
       "4     1       Hunter    1      ...        850a43f90       3.0              2\n",
       "\n",
       "[5 rows x 24 columns]"
      ]
     },
     "execution_count": 3,
     "metadata": {},
     "output_type": "execute_result"
    }
   ],
   "source": [
    "train.head()"
   ]
  },
  {
   "cell_type": "code",
   "execution_count": 4,
   "metadata": {
    "_uuid": "446969fe60b76c5e858c22507a88544835531cf7"
   },
   "outputs": [
    {
     "data": {
      "text/html": [
       "<div>\n",
       "<style scoped>\n",
       "    .dataframe tbody tr th:only-of-type {\n",
       "        vertical-align: middle;\n",
       "    }\n",
       "\n",
       "    .dataframe tbody tr th {\n",
       "        vertical-align: top;\n",
       "    }\n",
       "\n",
       "    .dataframe thead th {\n",
       "        text-align: right;\n",
       "    }\n",
       "</style>\n",
       "<table border=\"1\" class=\"dataframe\">\n",
       "  <thead>\n",
       "    <tr style=\"text-align: right;\">\n",
       "      <th></th>\n",
       "      <th>Type</th>\n",
       "      <th>Name</th>\n",
       "      <th>Age</th>\n",
       "      <th>Breed1</th>\n",
       "      <th>Breed2</th>\n",
       "      <th>Gender</th>\n",
       "      <th>Color1</th>\n",
       "      <th>Color2</th>\n",
       "      <th>Color3</th>\n",
       "      <th>MaturitySize</th>\n",
       "      <th>FurLength</th>\n",
       "      <th>Vaccinated</th>\n",
       "      <th>Dewormed</th>\n",
       "      <th>Sterilized</th>\n",
       "      <th>Health</th>\n",
       "      <th>Quantity</th>\n",
       "      <th>Fee</th>\n",
       "      <th>State</th>\n",
       "      <th>RescuerID</th>\n",
       "      <th>VideoAmt</th>\n",
       "      <th>Description</th>\n",
       "      <th>PetID</th>\n",
       "      <th>PhotoAmt</th>\n",
       "    </tr>\n",
       "  </thead>\n",
       "  <tbody>\n",
       "    <tr>\n",
       "      <th>0</th>\n",
       "      <td>1</td>\n",
       "      <td>Puppy</td>\n",
       "      <td>2</td>\n",
       "      <td>307</td>\n",
       "      <td>0</td>\n",
       "      <td>1</td>\n",
       "      <td>1</td>\n",
       "      <td>0</td>\n",
       "      <td>0</td>\n",
       "      <td>2</td>\n",
       "      <td>2</td>\n",
       "      <td>2</td>\n",
       "      <td>2</td>\n",
       "      <td>2</td>\n",
       "      <td>1</td>\n",
       "      <td>1</td>\n",
       "      <td>150</td>\n",
       "      <td>41326</td>\n",
       "      <td>4475f31553f0170229455e3c5645644f</td>\n",
       "      <td>0</td>\n",
       "      <td>Puppy is calm for a young dog, but he becomes ...</td>\n",
       "      <td>378fcc4fc</td>\n",
       "      <td>3.0</td>\n",
       "    </tr>\n",
       "    <tr>\n",
       "      <th>1</th>\n",
       "      <td>2</td>\n",
       "      <td>London</td>\n",
       "      <td>24</td>\n",
       "      <td>266</td>\n",
       "      <td>0</td>\n",
       "      <td>1</td>\n",
       "      <td>2</td>\n",
       "      <td>7</td>\n",
       "      <td>0</td>\n",
       "      <td>2</td>\n",
       "      <td>1</td>\n",
       "      <td>1</td>\n",
       "      <td>1</td>\n",
       "      <td>1</td>\n",
       "      <td>1</td>\n",
       "      <td>1</td>\n",
       "      <td>0</td>\n",
       "      <td>41326</td>\n",
       "      <td>4475f31553f0170229455e3c5645644f</td>\n",
       "      <td>0</td>\n",
       "      <td>Urgently seeking adoption. Please contact for ...</td>\n",
       "      <td>73c10e136</td>\n",
       "      <td>1.0</td>\n",
       "    </tr>\n",
       "    <tr>\n",
       "      <th>2</th>\n",
       "      <td>2</td>\n",
       "      <td>Snowball</td>\n",
       "      <td>20</td>\n",
       "      <td>266</td>\n",
       "      <td>0</td>\n",
       "      <td>2</td>\n",
       "      <td>7</td>\n",
       "      <td>0</td>\n",
       "      <td>0</td>\n",
       "      <td>2</td>\n",
       "      <td>1</td>\n",
       "      <td>1</td>\n",
       "      <td>1</td>\n",
       "      <td>1</td>\n",
       "      <td>1</td>\n",
       "      <td>1</td>\n",
       "      <td>150</td>\n",
       "      <td>41326</td>\n",
       "      <td>4475f31553f0170229455e3c5645644f</td>\n",
       "      <td>0</td>\n",
       "      <td>Snowball... doesn't look so good (she is healt...</td>\n",
       "      <td>72000c4c5</td>\n",
       "      <td>1.0</td>\n",
       "    </tr>\n",
       "    <tr>\n",
       "      <th>3</th>\n",
       "      <td>2</td>\n",
       "      <td>Malibu</td>\n",
       "      <td>5</td>\n",
       "      <td>266</td>\n",
       "      <td>252</td>\n",
       "      <td>2</td>\n",
       "      <td>1</td>\n",
       "      <td>6</td>\n",
       "      <td>7</td>\n",
       "      <td>2</td>\n",
       "      <td>1</td>\n",
       "      <td>1</td>\n",
       "      <td>1</td>\n",
       "      <td>1</td>\n",
       "      <td>1</td>\n",
       "      <td>1</td>\n",
       "      <td>100</td>\n",
       "      <td>41326</td>\n",
       "      <td>4475f31553f0170229455e3c5645644f</td>\n",
       "      <td>0</td>\n",
       "      <td>Malibu: Female, Local Mix, 4-5 months, vaccina...</td>\n",
       "      <td>e147a4b9f</td>\n",
       "      <td>1.0</td>\n",
       "    </tr>\n",
       "    <tr>\n",
       "      <th>4</th>\n",
       "      <td>1</td>\n",
       "      <td>Lala Girl</td>\n",
       "      <td>6</td>\n",
       "      <td>307</td>\n",
       "      <td>0</td>\n",
       "      <td>2</td>\n",
       "      <td>1</td>\n",
       "      <td>2</td>\n",
       "      <td>7</td>\n",
       "      <td>2</td>\n",
       "      <td>1</td>\n",
       "      <td>1</td>\n",
       "      <td>1</td>\n",
       "      <td>1</td>\n",
       "      <td>1</td>\n",
       "      <td>1</td>\n",
       "      <td>150</td>\n",
       "      <td>41326</td>\n",
       "      <td>4475f31553f0170229455e3c5645644f</td>\n",
       "      <td>0</td>\n",
       "      <td>LALA! That's my name. I'm a 6 month old girl d...</td>\n",
       "      <td>43fbba852</td>\n",
       "      <td>1.0</td>\n",
       "    </tr>\n",
       "  </tbody>\n",
       "</table>\n",
       "</div>"
      ],
      "text/plain": [
       "   Type       Name    ...         PetID  PhotoAmt\n",
       "0     1      Puppy    ...     378fcc4fc       3.0\n",
       "1     2     London    ...     73c10e136       1.0\n",
       "2     2   Snowball    ...     72000c4c5       1.0\n",
       "3     2     Malibu    ...     e147a4b9f       1.0\n",
       "4     1  Lala Girl    ...     43fbba852       1.0\n",
       "\n",
       "[5 rows x 23 columns]"
      ]
     },
     "execution_count": 4,
     "metadata": {},
     "output_type": "execute_result"
    }
   ],
   "source": [
    "test.head()"
   ]
  },
  {
   "cell_type": "markdown",
   "metadata": {
    "_uuid": "088ed72805a69ee2a638c48f45bebf637a8a5f78"
   },
   "source": [
    "We see that most of information is categorical, but alreasy encoded, the description for some we can find in these files:"
   ]
  },
  {
   "cell_type": "code",
   "execution_count": 5,
   "metadata": {
    "_uuid": "cdb36fcca79a9c8db7f139d7266d8c8e4ad021f3"
   },
   "outputs": [],
   "source": [
    "labels_breed = pd.read_csv(PATH+'breed_labels.csv', index_col='BreedID')\n",
    "labels_state = pd.read_csv(PATH+'state_labels.csv', index_col='StateID')\n",
    "labels_color = pd.read_csv(PATH+'color_labels.csv', index_col='ColorID')"
   ]
  },
  {
   "cell_type": "markdown",
   "metadata": {
    "_uuid": "074957f708225628d119638e8c93ea1fbdfda2a5"
   },
   "source": [
    "# Table dataset processing"
   ]
  },
  {
   "cell_type": "markdown",
   "metadata": {
    "_uuid": "f7cbb60d2196c3eb48084ff3e2dd16b80edb963c"
   },
   "source": [
    "Let's take a look at information:"
   ]
  },
  {
   "cell_type": "code",
   "execution_count": 6,
   "metadata": {
    "_uuid": "40abf0aeebd72777a493f9613cc699f024417bc8"
   },
   "outputs": [
    {
     "name": "stdout",
     "output_type": "stream",
     "text": [
      "<class 'pandas.core.frame.DataFrame'>\n",
      "RangeIndex: 14993 entries, 0 to 14992\n",
      "Data columns (total 24 columns):\n",
      "Type             14993 non-null int64\n",
      "Name             13736 non-null object\n",
      "Age              14993 non-null int64\n",
      "Breed1           14993 non-null int64\n",
      "Breed2           14993 non-null int64\n",
      "Gender           14993 non-null int64\n",
      "Color1           14993 non-null int64\n",
      "Color2           14993 non-null int64\n",
      "Color3           14993 non-null int64\n",
      "MaturitySize     14993 non-null int64\n",
      "FurLength        14993 non-null int64\n",
      "Vaccinated       14993 non-null int64\n",
      "Dewormed         14993 non-null int64\n",
      "Sterilized       14993 non-null int64\n",
      "Health           14993 non-null int64\n",
      "Quantity         14993 non-null int64\n",
      "Fee              14993 non-null int64\n",
      "State            14993 non-null int64\n",
      "RescuerID        14993 non-null object\n",
      "VideoAmt         14993 non-null int64\n",
      "Description      14981 non-null object\n",
      "PetID            14993 non-null object\n",
      "PhotoAmt         14993 non-null float64\n",
      "AdoptionSpeed    14993 non-null int64\n",
      "dtypes: float64(1), int64(19), object(4)\n",
      "memory usage: 2.7+ MB\n"
     ]
    }
   ],
   "source": [
    "train.info()"
   ]
  },
  {
   "cell_type": "code",
   "execution_count": 7,
   "metadata": {
    "_uuid": "339012b09fa25547d7540b2fbe8806a2b9d1410d"
   },
   "outputs": [
    {
     "name": "stdout",
     "output_type": "stream",
     "text": [
      "<class 'pandas.core.frame.DataFrame'>\n",
      "RangeIndex: 3948 entries, 0 to 3947\n",
      "Data columns (total 23 columns):\n",
      "Type            3948 non-null int64\n",
      "Name            3645 non-null object\n",
      "Age             3948 non-null int64\n",
      "Breed1          3948 non-null int64\n",
      "Breed2          3948 non-null int64\n",
      "Gender          3948 non-null int64\n",
      "Color1          3948 non-null int64\n",
      "Color2          3948 non-null int64\n",
      "Color3          3948 non-null int64\n",
      "MaturitySize    3948 non-null int64\n",
      "FurLength       3948 non-null int64\n",
      "Vaccinated      3948 non-null int64\n",
      "Dewormed        3948 non-null int64\n",
      "Sterilized      3948 non-null int64\n",
      "Health          3948 non-null int64\n",
      "Quantity        3948 non-null int64\n",
      "Fee             3948 non-null int64\n",
      "State           3948 non-null int64\n",
      "RescuerID       3948 non-null object\n",
      "VideoAmt        3948 non-null int64\n",
      "Description     3946 non-null object\n",
      "PetID           3948 non-null object\n",
      "PhotoAmt        3948 non-null float64\n",
      "dtypes: float64(1), int64(18), object(4)\n",
      "memory usage: 709.5+ KB\n"
     ]
    }
   ],
   "source": [
    "test.info()"
   ]
  },
  {
   "cell_type": "code",
   "execution_count": 8,
   "metadata": {
    "_uuid": "219c41ae8f4ec2ebaf95f727f71d52027c32783c"
   },
   "outputs": [
    {
     "name": "stdout",
     "output_type": "stream",
     "text": [
      "8% of train and 7% of test names are missing\n"
     ]
    }
   ],
   "source": [
    "no_name_train = int(np.sum(train.Name.isna())/len(train.Name) * 100)\n",
    "no_name_test = int(np.sum(test.Name.isna())/len(test.Name) * 100)\n",
    "print(f'{no_name_train}% of train and {no_name_test}% of test names are missing')"
   ]
  },
  {
   "cell_type": "markdown",
   "metadata": {
    "_uuid": "f05ce5b6cef11850e78f183821348553b09aabd0"
   },
   "source": [
    "We can use PetIDs as index to simplify merging of datasets:"
   ]
  },
  {
   "cell_type": "code",
   "execution_count": 9,
   "metadata": {
    "_uuid": "8d774efeae1e18a37d2b3daecef1e9ac2e761d23"
   },
   "outputs": [],
   "source": [
    "train.set_index('PetID', inplace=True)\n",
    "test.set_index('PetID', inplace=True)"
   ]
  },
  {
   "cell_type": "code",
   "execution_count": 10,
   "metadata": {
    "_uuid": "aaffd236fcde47d2652387ad9bc98c4c68a90f88"
   },
   "outputs": [
    {
     "data": {
      "text/html": [
       "<div>\n",
       "<style scoped>\n",
       "    .dataframe tbody tr th:only-of-type {\n",
       "        vertical-align: middle;\n",
       "    }\n",
       "\n",
       "    .dataframe tbody tr th {\n",
       "        vertical-align: top;\n",
       "    }\n",
       "\n",
       "    .dataframe thead th {\n",
       "        text-align: right;\n",
       "    }\n",
       "</style>\n",
       "<table border=\"1\" class=\"dataframe\">\n",
       "  <thead>\n",
       "    <tr style=\"text-align: right;\">\n",
       "      <th></th>\n",
       "      <th>Type</th>\n",
       "      <th>Name</th>\n",
       "      <th>Age</th>\n",
       "      <th>Breed1</th>\n",
       "      <th>Breed2</th>\n",
       "      <th>Gender</th>\n",
       "      <th>Color1</th>\n",
       "      <th>Color2</th>\n",
       "      <th>Color3</th>\n",
       "      <th>MaturitySize</th>\n",
       "      <th>FurLength</th>\n",
       "      <th>Vaccinated</th>\n",
       "      <th>Dewormed</th>\n",
       "      <th>Sterilized</th>\n",
       "      <th>Health</th>\n",
       "      <th>Quantity</th>\n",
       "      <th>Fee</th>\n",
       "      <th>State</th>\n",
       "      <th>RescuerID</th>\n",
       "      <th>VideoAmt</th>\n",
       "      <th>Description</th>\n",
       "      <th>PhotoAmt</th>\n",
       "      <th>AdoptionSpeed</th>\n",
       "    </tr>\n",
       "    <tr>\n",
       "      <th>PetID</th>\n",
       "      <th></th>\n",
       "      <th></th>\n",
       "      <th></th>\n",
       "      <th></th>\n",
       "      <th></th>\n",
       "      <th></th>\n",
       "      <th></th>\n",
       "      <th></th>\n",
       "      <th></th>\n",
       "      <th></th>\n",
       "      <th></th>\n",
       "      <th></th>\n",
       "      <th></th>\n",
       "      <th></th>\n",
       "      <th></th>\n",
       "      <th></th>\n",
       "      <th></th>\n",
       "      <th></th>\n",
       "      <th></th>\n",
       "      <th></th>\n",
       "      <th></th>\n",
       "      <th></th>\n",
       "      <th></th>\n",
       "    </tr>\n",
       "  </thead>\n",
       "  <tbody>\n",
       "    <tr>\n",
       "      <th>86e1089a3</th>\n",
       "      <td>2</td>\n",
       "      <td>Nibble</td>\n",
       "      <td>3</td>\n",
       "      <td>299</td>\n",
       "      <td>0</td>\n",
       "      <td>1</td>\n",
       "      <td>1</td>\n",
       "      <td>7</td>\n",
       "      <td>0</td>\n",
       "      <td>1</td>\n",
       "      <td>1</td>\n",
       "      <td>2</td>\n",
       "      <td>2</td>\n",
       "      <td>2</td>\n",
       "      <td>1</td>\n",
       "      <td>1</td>\n",
       "      <td>100</td>\n",
       "      <td>41326</td>\n",
       "      <td>8480853f516546f6cf33aa88cd76c379</td>\n",
       "      <td>0</td>\n",
       "      <td>Nibble is a 3+ month old ball of cuteness. He ...</td>\n",
       "      <td>1.0</td>\n",
       "      <td>2</td>\n",
       "    </tr>\n",
       "    <tr>\n",
       "      <th>6296e909a</th>\n",
       "      <td>2</td>\n",
       "      <td>No Name Yet</td>\n",
       "      <td>1</td>\n",
       "      <td>265</td>\n",
       "      <td>0</td>\n",
       "      <td>1</td>\n",
       "      <td>1</td>\n",
       "      <td>2</td>\n",
       "      <td>0</td>\n",
       "      <td>2</td>\n",
       "      <td>2</td>\n",
       "      <td>3</td>\n",
       "      <td>3</td>\n",
       "      <td>3</td>\n",
       "      <td>1</td>\n",
       "      <td>1</td>\n",
       "      <td>0</td>\n",
       "      <td>41401</td>\n",
       "      <td>3082c7125d8fb66f7dd4bff4192c8b14</td>\n",
       "      <td>0</td>\n",
       "      <td>I just found it alone yesterday near my apartm...</td>\n",
       "      <td>2.0</td>\n",
       "      <td>0</td>\n",
       "    </tr>\n",
       "    <tr>\n",
       "      <th>3422e4906</th>\n",
       "      <td>1</td>\n",
       "      <td>Brisco</td>\n",
       "      <td>1</td>\n",
       "      <td>307</td>\n",
       "      <td>0</td>\n",
       "      <td>1</td>\n",
       "      <td>2</td>\n",
       "      <td>7</td>\n",
       "      <td>0</td>\n",
       "      <td>2</td>\n",
       "      <td>2</td>\n",
       "      <td>1</td>\n",
       "      <td>1</td>\n",
       "      <td>2</td>\n",
       "      <td>1</td>\n",
       "      <td>1</td>\n",
       "      <td>0</td>\n",
       "      <td>41326</td>\n",
       "      <td>fa90fa5b1ee11c86938398b60abc32cb</td>\n",
       "      <td>0</td>\n",
       "      <td>Their pregnant mother was dumped by her irresp...</td>\n",
       "      <td>7.0</td>\n",
       "      <td>3</td>\n",
       "    </tr>\n",
       "    <tr>\n",
       "      <th>5842f1ff5</th>\n",
       "      <td>1</td>\n",
       "      <td>Miko</td>\n",
       "      <td>4</td>\n",
       "      <td>307</td>\n",
       "      <td>0</td>\n",
       "      <td>2</td>\n",
       "      <td>1</td>\n",
       "      <td>2</td>\n",
       "      <td>0</td>\n",
       "      <td>2</td>\n",
       "      <td>1</td>\n",
       "      <td>1</td>\n",
       "      <td>1</td>\n",
       "      <td>2</td>\n",
       "      <td>1</td>\n",
       "      <td>1</td>\n",
       "      <td>150</td>\n",
       "      <td>41401</td>\n",
       "      <td>9238e4f44c71a75282e62f7136c6b240</td>\n",
       "      <td>0</td>\n",
       "      <td>Good guard dog, very alert, active, obedience ...</td>\n",
       "      <td>8.0</td>\n",
       "      <td>2</td>\n",
       "    </tr>\n",
       "    <tr>\n",
       "      <th>850a43f90</th>\n",
       "      <td>1</td>\n",
       "      <td>Hunter</td>\n",
       "      <td>1</td>\n",
       "      <td>307</td>\n",
       "      <td>0</td>\n",
       "      <td>1</td>\n",
       "      <td>1</td>\n",
       "      <td>0</td>\n",
       "      <td>0</td>\n",
       "      <td>2</td>\n",
       "      <td>1</td>\n",
       "      <td>2</td>\n",
       "      <td>2</td>\n",
       "      <td>2</td>\n",
       "      <td>1</td>\n",
       "      <td>1</td>\n",
       "      <td>0</td>\n",
       "      <td>41326</td>\n",
       "      <td>95481e953f8aed9ec3d16fc4509537e8</td>\n",
       "      <td>0</td>\n",
       "      <td>This handsome yet cute boy is up for adoption....</td>\n",
       "      <td>3.0</td>\n",
       "      <td>2</td>\n",
       "    </tr>\n",
       "  </tbody>\n",
       "</table>\n",
       "</div>"
      ],
      "text/plain": [
       "           Type         Name      ...        PhotoAmt  AdoptionSpeed\n",
       "PetID                             ...                               \n",
       "86e1089a3     2       Nibble      ...             1.0              2\n",
       "6296e909a     2  No Name Yet      ...             2.0              0\n",
       "3422e4906     1       Brisco      ...             7.0              3\n",
       "5842f1ff5     1         Miko      ...             8.0              2\n",
       "850a43f90     1       Hunter      ...             3.0              2\n",
       "\n",
       "[5 rows x 23 columns]"
      ]
     },
     "execution_count": 10,
     "metadata": {},
     "output_type": "execute_result"
    }
   ],
   "source": [
    "train.head()"
   ]
  },
  {
   "cell_type": "markdown",
   "metadata": {
    "_uuid": "7cedded574a54e22728abe4826dfa8b2d0c59f97"
   },
   "source": [
    "In addition to this dataset we have two more json files with processed images and descriptions. Let's merge them together. Fow this we need to do some additional procedures."
   ]
  },
  {
   "cell_type": "code",
   "execution_count": 11,
   "metadata": {
    "_uuid": "1595bbda33932abcfb2454e2294303f3b30925ec"
   },
   "outputs": [
    {
     "data": {
      "text/html": [
       "<div>\n",
       "<style scoped>\n",
       "    .dataframe tbody tr th:only-of-type {\n",
       "        vertical-align: middle;\n",
       "    }\n",
       "\n",
       "    .dataframe tbody tr th {\n",
       "        vertical-align: top;\n",
       "    }\n",
       "\n",
       "    .dataframe thead th {\n",
       "        text-align: right;\n",
       "    }\n",
       "</style>\n",
       "<table border=\"1\" class=\"dataframe\">\n",
       "  <thead>\n",
       "    <tr style=\"text-align: right;\">\n",
       "      <th></th>\n",
       "    </tr>\n",
       "  </thead>\n",
       "  <tbody>\n",
       "    <tr>\n",
       "      <th>lll</th>\n",
       "    </tr>\n",
       "  </tbody>\n",
       "</table>\n",
       "</div>"
      ],
      "text/plain": [
       "Empty DataFrame\n",
       "Columns: []\n",
       "Index: [lll]"
      ]
     },
     "execution_count": 11,
     "metadata": {},
     "output_type": "execute_result"
    }
   ],
   "source": [
    "pd.DataFrame(index=['lll']).add_prefix('sentences_score_')"
   ]
  },
  {
   "cell_type": "code",
   "execution_count": 12,
   "metadata": {
    "_uuid": "b589899a24f417da17c96954148ed703bd053c27"
   },
   "outputs": [],
   "source": [
    "class PetFinderParser(object):\n",
    "    \n",
    "    def __init__(self, debug=False):\n",
    "        self.debug = debug\n",
    "        self.sentence_sep = ' '\n",
    "        self.extract_sentiment_text = False\n",
    "    \n",
    "    def open_metadata_file(self, filename):\n",
    "        with open(filename, 'r') as f:\n",
    "            metadata_file = json.load(f)\n",
    "        return metadata_file\n",
    "            \n",
    "    def open_sentiment_file(self, filename):\n",
    "        with open(filename, 'r') as f:\n",
    "            sentiment_file = json.load(f)\n",
    "        return sentiment_file\n",
    "        \n",
    "    def parse_sentiment_file(self, file, pet_id):        \n",
    "        file_sentiment = file['documentSentiment']\n",
    "        file_sentiment = pd.DataFrame(file_sentiment,  index=[pet_id]).add_prefix('document_')\n",
    "\n",
    "        file_sentences_sentiment = pd.DataFrame.from_records(x['sentiment'] for x in file['sentences']).describe()\n",
    "        file_sentences_magnitude = pd.DataFrame(file_sentences_sentiment.to_dict()['magnitude'], index=[pet_id]).add_prefix('sentences_magnitude_')\n",
    "        file_sentences_score = pd.DataFrame(file_sentences_sentiment.to_dict()['score'], index=[pet_id]).add_prefix('sentences_score_')\n",
    "\n",
    "        file_entities_type = dict(Counter([x['type'] for x in file['entities']]))\n",
    "        file_entities_type = pd.DataFrame(file_entities_type, index=[pet_id])\n",
    "        df_sentiment = pd.concat([file_sentiment,file_sentences_magnitude, file_sentences_score,file_entities_type], axis=1)\n",
    "        return df_sentiment\n",
    "    \n",
    "    def parse_metadata_file(self, file, pet_id):\n",
    "        file_keys = list(file.keys())\n",
    "        if 'labelAnnotations' in file_keys:\n",
    "            file_annots = pd.DataFrame.from_records(x for x in file['labelAnnotations'])\n",
    "            file_top_desc = ''.join(file_annots['description'].iloc[:3].to_list())\n",
    "            file_annots = file_annots.describe()\n",
    "            file_annots_score = pd.DataFrame(file_annots.to_dict()['score'], index=[pet_id]).add_prefix('annots_score_')\n",
    "            file_annots_topicality = pd.DataFrame(file_annots.to_dict()['topicality'], index=[pet_id]).add_prefix('annots_topicality_')\n",
    "        else:\n",
    "            file_annots_score = pd.DataFrame(index=[pet_id])\n",
    "            file_annots_topicality = pd.DataFrame(index=[pet_id])\n",
    "            file_top_desc = ''\n",
    "\n",
    "        file_crops = file['cropHintsAnnotation']['cropHints']\n",
    "        if 'importanceFraction' in file_crops[0].keys():\n",
    "            file_crop_conf = np.array([x['confidence'] for x in file_crops]).mean()\n",
    "        else:\n",
    "            file_crop_conf = np.nan\n",
    "\n",
    "        if 'importanceFraction' in file_crops[0].keys():\n",
    "            file_crop_importance = np.array([x['importanceFraction'] for x in file_crops]).mean()\n",
    "        else:\n",
    "            file_crop_importance = np.nan\n",
    "\n",
    "        df_metadata = {\n",
    "            'top_decription': file_top_desc,\n",
    "            'crop_conf_mean': file_crop_conf,\n",
    "            'crop_importance': file_crop_importance,\n",
    "        }\n",
    "\n",
    "        df_metadata = pd.DataFrame(df_metadata, index=[pet_id])\n",
    "        for i in range(2):\n",
    "            file_colors = file['imagePropertiesAnnotation']['dominantColors']['colors'][i]\n",
    "            file_color_rgb = pd.DataFrame(file_colors['color'], index=[pet_id]).add_suffix(f'_{i}')\n",
    "            del file_colors['color']\n",
    "            file_color_score = pd.DataFrame(file_colors, index=[pet_id]).add_suffix(f'_{i}')\n",
    "            df_metadata = pd.concat([df_metadata, file_color_rgb, file_color_score], axis=1)\n",
    "        df_metadata = pd.concat([df_metadata,file_annots_score,file_annots_topicality], axis=1)\n",
    "        df_metadata = df_metadata.add_prefix('metadata_')\n",
    "        \n",
    "        return df_metadata\n",
    "    \n",
    "def extract_additional_features(pet_id, mode='train'):\n",
    "    sentiment_filename = 'input/{}_sentiment/{}.json'.format(mode, pet_id)\n",
    "    try:\n",
    "        sentiment_file = pet_parser.open_sentiment_file(sentiment_filename)\n",
    "        df_sentiment = pet_parser.parse_sentiment_file(sentiment_file, pet_id)\n",
    "    except FileNotFoundError:\n",
    "        df_sentiment = pd.DataFrame()\n",
    "\n",
    "    df_metadata = pd.DataFrame()\n",
    "    metadata_filenames = sorted(glob.glob('input/{}_metadata/{}*.json'.format(mode, pet_id)))\n",
    "    \n",
    "    if len(metadata_filenames)>0:\n",
    "        metadata_file = pet_parser.open_metadata_file(metadata_filenames[0])\n",
    "        df_metadata = pet_parser.parse_metadata_file(metadata_file, pet_id)\n",
    "    else:\n",
    "        df_metadata = pd.DataFrame()\n",
    "    dfs = pd.concat([df_sentiment, df_metadata], axis=1)\n",
    "    \n",
    "    return dfs\n",
    "\n",
    "\n",
    "pet_parser = PetFinderParser()"
   ]
  },
  {
   "cell_type": "code",
   "execution_count": 13,
   "metadata": {
    "_uuid": "d4fa95d7a00e289b4217f3d746399e05b6c5b2f7"
   },
   "outputs": [],
   "source": [
    "# train_pet_ids = train.index.values\n",
    "\n",
    "# # for i in train_pet_ids:\n",
    "# #     print(extract_additional_features(i, mode='train'))\n",
    "# dfs_train = Parallel(n_jobs=-1, verbose=10)(\n",
    "#     delayed(extract_additional_features)(i, mode='train') for i in train_pet_ids)"
   ]
  },
  {
   "cell_type": "code",
   "execution_count": 14,
   "metadata": {
    "_uuid": "02c70db0a1eeb487d2f2aa72355f94bf277f2e67"
   },
   "outputs": [],
   "source": [
    "# test_pet_ids = test.index.values\n",
    "\n",
    "# dfs_test = Parallel(n_jobs=-1, verbose=10)(\n",
    "#     delayed(extract_additional_features)(i, mode='test') for i in test_pet_ids)"
   ]
  },
  {
   "cell_type": "code",
   "execution_count": 15,
   "metadata": {
    "_uuid": "6375243a45f18e178a5af1f2458890d3d46873b0"
   },
   "outputs": [],
   "source": [
    "# add_train = pd.concat(dfs_train, axis=0, sort=False)\n",
    "# add_test = pd.concat(dfs_test, axis=0, sort=False)"
   ]
  },
  {
   "cell_type": "code",
   "execution_count": 16,
   "metadata": {
    "_uuid": "7072b9183dc82304aa9638868a851457790b5dc0"
   },
   "outputs": [],
   "source": [
    "# add_train.to_csv(\"./add_train.csv\")\n",
    "# add_test.to_csv(\"./add_test.csv\")"
   ]
  },
  {
   "cell_type": "code",
   "execution_count": 17,
   "metadata": {
    "_uuid": "94137baa1d8ddb13f1b6ba442f13d6cd820a09bb"
   },
   "outputs": [],
   "source": [
    "add_train = pd.read_csv(\"../input/intermediate-data/add_train.csv\", index_col='Unnamed: 0')\n",
    "add_test = pd.read_csv(\"../input/intermediate-data/add_test.csv\", index_col='Unnamed: 0')"
   ]
  },
  {
   "cell_type": "code",
   "execution_count": 18,
   "metadata": {
    "_uuid": "59aaef1dcac4225b7e7bfa31934c94d90a24f233"
   },
   "outputs": [],
   "source": [
    "full_train = pd.concat([train, add_train], axis=1, sort=False)\n",
    "full_test = pd.concat([test, add_test], axis=1, sort=False)"
   ]
  },
  {
   "cell_type": "code",
   "execution_count": 19,
   "metadata": {
    "_uuid": "9e7cd9c15cf465aa8131b405ad9cb39e497f4be7"
   },
   "outputs": [
    {
     "data": {
      "text/plain": [
       "((14993, 77), (3948, 76))"
      ]
     },
     "execution_count": 19,
     "metadata": {},
     "output_type": "execute_result"
    }
   ],
   "source": [
    "full_train.shape, full_test.shape"
   ]
  },
  {
   "cell_type": "code",
   "execution_count": 20,
   "metadata": {
    "_uuid": "d309a6aba5e31b90f34ddef1a7ba7aa9ef9d5522"
   },
   "outputs": [],
   "source": [
    "# full_train.to_csv(\"./full_train.csv\")\n",
    "# full_test.to_csv(\"./full_test.csv\")"
   ]
  },
  {
   "cell_type": "markdown",
   "metadata": {
    "_uuid": "923280ac1e0a51debbb8ebbf65b22b05f07141fc"
   },
   "source": [
    "# Start from here to load dataframe with metadata and sentiment data, joined with table data."
   ]
  },
  {
   "cell_type": "code",
   "execution_count": 21,
   "metadata": {
    "_uuid": "576af2181e671433e52a1ff5eae76969d8e9b698"
   },
   "outputs": [],
   "source": [
    "# full_train = pd.read_csv(\"./full_train.csv\", index_col='Unnamed: 0')\n",
    "# full_test = pd.read_csv(\"./full_test.csv\", index_col='Unnamed: 0')"
   ]
  },
  {
   "cell_type": "code",
   "execution_count": 22,
   "metadata": {
    "_uuid": "2c5d6c2a97fe3680382b60e704ea2bbf976260cb"
   },
   "outputs": [],
   "source": [
    "#full_train.columns"
   ]
  },
  {
   "cell_type": "markdown",
   "metadata": {
    "_uuid": "c10b17c770808086b3f1a53c83f11266a5df3e64"
   },
   "source": [
    "Also there is a \"Description\" column, which has NaN. But it's important feature for us, so we can weplace NaN with smth, which will say that there is no description in text format. Also as feature we selected the length of the description."
   ]
  },
  {
   "cell_type": "code",
   "execution_count": 23,
   "metadata": {
    "_uuid": "d39c33f3eb8033f89a71e42ca546c8a2b64d51a4"
   },
   "outputs": [],
   "source": [
    "full_train['CharCont'] = full_train['Description'].str.len()\n",
    "full_test['CharCont'] = full_test['Description'].str.len()"
   ]
  },
  {
   "cell_type": "markdown",
   "metadata": {
    "_uuid": "a376ab40af571cac845ba375064f59359bc6a63a"
   },
   "source": [
    "Add columns with description of breeds."
   ]
  },
  {
   "cell_type": "code",
   "execution_count": 24,
   "metadata": {
    "_uuid": "4767f4f2d0c2e93390acee798d3c1991c5bb684c"
   },
   "outputs": [],
   "source": [
    "# full_train = pd.merge(full_train, labels_breed['BreedName'], how='left', left_on='Breed1', right_index=True)\n",
    "# full_train = full_train.rename(index=str, columns={\"BreedName\": \"Breed1_Name\"})\n",
    "# full_train = pd.merge(full_train, labels_breed['BreedName'], how='left', left_on='Breed2', right_index=True)\n",
    "# full_train = full_train.rename(index=str, columns={\"BreedName\": \"Breed2_Name\"})"
   ]
  },
  {
   "cell_type": "code",
   "execution_count": 25,
   "metadata": {
    "_uuid": "87fe6855316646e5bcb130cf7daed7c2ab4d47aa"
   },
   "outputs": [],
   "source": [
    "# full_test = pd.merge(full_test, labels_breed['BreedName'], how='left', left_on='Breed1', right_index=True)\n",
    "# full_test = full_test.rename(index=str, columns={\"BreedName\": \"Breed1_Name\"})\n",
    "# full_test = pd.merge(full_test, labels_breed['BreedName'], how='left', left_on='Breed2', right_index=True)\n",
    "# full_test = full_test.rename(index=str, columns={\"BreedName\": \"Breed2_Name\"})"
   ]
  },
  {
   "cell_type": "markdown",
   "metadata": {
    "_uuid": "9fe57c852b28a3ac16801916e3ed8c8e91c15980"
   },
   "source": [
    "Add columns with description of colors."
   ]
  },
  {
   "cell_type": "code",
   "execution_count": 26,
   "metadata": {
    "_uuid": "37c7aeb1e26dd73a0577ad7438cefc06182ed7f2"
   },
   "outputs": [],
   "source": [
    "# full_train = pd.merge(full_train, labels_color, how='left', left_on='Color1', right_index=True)\n",
    "# full_train = full_train.rename(index=str, columns={\"ColorName\": \"Color1_Name\"})\n",
    "# full_train = pd.merge(full_train, labels_color, how='left', left_on='Color2', right_index=True)\n",
    "# full_train = full_train.rename(index=str, columns={\"ColorName\": \"Color2_Name\"})\n",
    "# full_train = pd.merge(full_train, labels_color, how='left', left_on='Color3', right_index=True)\n",
    "# full_train = full_train.rename(index=str, columns={\"ColorName\": \"Color3_Name\"})"
   ]
  },
  {
   "cell_type": "code",
   "execution_count": 27,
   "metadata": {
    "_uuid": "8dc11eb7e0619d256e930c0e50bb0b2974ea0f16"
   },
   "outputs": [
    {
     "data": {
      "text/plain": [
       "(14993, 78)"
      ]
     },
     "execution_count": 27,
     "metadata": {},
     "output_type": "execute_result"
    }
   ],
   "source": [
    "full_train.shape"
   ]
  },
  {
   "cell_type": "code",
   "execution_count": 28,
   "metadata": {
    "_uuid": "68900de01222c1533b23c08be6a0c383f9fb4841"
   },
   "outputs": [],
   "source": [
    "# full_test = pd.merge(full_test, labels_color, how='left', left_on='Color1', right_index=True)\n",
    "# full_test = full_test.rename(index=str, columns={\"ColorName\": \"Color1_Name\"})\n",
    "# full_test = pd.merge(full_test, labels_color, how='left', left_on='Color2', right_index=True)\n",
    "# full_test = full_test.rename(index=str, columns={\"ColorName\": \"Color2_Name\"})\n",
    "# full_test = pd.merge(full_test, labels_color, how='left', left_on='Color3', right_index=True)\n",
    "# full_test = full_test.rename(index=str, columns={\"ColorName\": \"Color3_Name\"})"
   ]
  },
  {
   "cell_type": "markdown",
   "metadata": {
    "_uuid": "c5e438a5a5711858a91f53ad71575804a424d6b1"
   },
   "source": [
    "Add columns with description of states."
   ]
  },
  {
   "cell_type": "code",
   "execution_count": 29,
   "metadata": {
    "_uuid": "731b6194f8c08965b50980bc9ab9242e950884f8"
   },
   "outputs": [],
   "source": [
    "# full_train = pd.merge(full_train, labels_state, how='left', left_on='State', right_index=True)\n",
    "# full_test = pd.merge(full_test, labels_state, how='left', left_on='State', right_index=True)"
   ]
  },
  {
   "cell_type": "code",
   "execution_count": 30,
   "metadata": {
    "_uuid": "5acecf08274b7b1d73d7c667d500394b0eea407a"
   },
   "outputs": [
    {
     "data": {
      "text/html": [
       "<div>\n",
       "<style scoped>\n",
       "    .dataframe tbody tr th:only-of-type {\n",
       "        vertical-align: middle;\n",
       "    }\n",
       "\n",
       "    .dataframe tbody tr th {\n",
       "        vertical-align: top;\n",
       "    }\n",
       "\n",
       "    .dataframe thead th {\n",
       "        text-align: right;\n",
       "    }\n",
       "</style>\n",
       "<table border=\"1\" class=\"dataframe\">\n",
       "  <thead>\n",
       "    <tr style=\"text-align: right;\">\n",
       "      <th></th>\n",
       "      <th>Type</th>\n",
       "      <th>Name</th>\n",
       "      <th>Age</th>\n",
       "      <th>Breed1</th>\n",
       "      <th>Breed2</th>\n",
       "      <th>Gender</th>\n",
       "      <th>Color1</th>\n",
       "      <th>Color2</th>\n",
       "      <th>Color3</th>\n",
       "      <th>MaturitySize</th>\n",
       "      <th>FurLength</th>\n",
       "      <th>Vaccinated</th>\n",
       "      <th>Dewormed</th>\n",
       "      <th>Sterilized</th>\n",
       "      <th>Health</th>\n",
       "      <th>Quantity</th>\n",
       "      <th>Fee</th>\n",
       "      <th>State</th>\n",
       "      <th>RescuerID</th>\n",
       "      <th>VideoAmt</th>\n",
       "      <th>Description</th>\n",
       "      <th>PhotoAmt</th>\n",
       "      <th>AdoptionSpeed</th>\n",
       "      <th>document_magnitude</th>\n",
       "      <th>document_score</th>\n",
       "      <th>sentences_magnitude_count</th>\n",
       "      <th>sentences_magnitude_mean</th>\n",
       "      <th>sentences_magnitude_std</th>\n",
       "      <th>sentences_magnitude_min</th>\n",
       "      <th>sentences_magnitude_25%</th>\n",
       "      <th>sentences_magnitude_50%</th>\n",
       "      <th>sentences_magnitude_75%</th>\n",
       "      <th>sentences_magnitude_max</th>\n",
       "      <th>sentences_score_count</th>\n",
       "      <th>sentences_score_mean</th>\n",
       "      <th>sentences_score_std</th>\n",
       "      <th>sentences_score_min</th>\n",
       "      <th>sentences_score_25%</th>\n",
       "      <th>sentences_score_50%</th>\n",
       "      <th>sentences_score_75%</th>\n",
       "      <th>sentences_score_max</th>\n",
       "      <th>ORGANIZATION</th>\n",
       "      <th>OTHER</th>\n",
       "      <th>LOCATION</th>\n",
       "      <th>PERSON</th>\n",
       "      <th>metadata_top_decription</th>\n",
       "      <th>metadata_crop_conf_mean</th>\n",
       "      <th>metadata_crop_importance</th>\n",
       "      <th>metadata_red_0</th>\n",
       "      <th>metadata_green_0</th>\n",
       "      <th>metadata_blue_0</th>\n",
       "      <th>metadata_score_0</th>\n",
       "      <th>metadata_pixelFraction_0</th>\n",
       "      <th>metadata_red_1</th>\n",
       "      <th>metadata_green_1</th>\n",
       "      <th>metadata_blue_1</th>\n",
       "      <th>metadata_score_1</th>\n",
       "      <th>metadata_pixelFraction_1</th>\n",
       "      <th>metadata_annots_score_count</th>\n",
       "      <th>metadata_annots_score_mean</th>\n",
       "      <th>metadata_annots_score_std</th>\n",
       "      <th>metadata_annots_score_min</th>\n",
       "      <th>metadata_annots_score_25%</th>\n",
       "      <th>metadata_annots_score_50%</th>\n",
       "      <th>metadata_annots_score_75%</th>\n",
       "      <th>metadata_annots_score_max</th>\n",
       "      <th>metadata_annots_topicality_count</th>\n",
       "      <th>metadata_annots_topicality_mean</th>\n",
       "      <th>metadata_annots_topicality_std</th>\n",
       "      <th>metadata_annots_topicality_min</th>\n",
       "      <th>metadata_annots_topicality_25%</th>\n",
       "      <th>metadata_annots_topicality_50%</th>\n",
       "      <th>metadata_annots_topicality_75%</th>\n",
       "      <th>metadata_annots_topicality_max</th>\n",
       "      <th>EVENT</th>\n",
       "      <th>WORK_OF_ART</th>\n",
       "      <th>CONSUMER_GOOD</th>\n",
       "      <th>CharCont</th>\n",
       "    </tr>\n",
       "  </thead>\n",
       "  <tbody>\n",
       "    <tr>\n",
       "      <th>86e1089a3</th>\n",
       "      <td>2</td>\n",
       "      <td>Nibble</td>\n",
       "      <td>3</td>\n",
       "      <td>299</td>\n",
       "      <td>0</td>\n",
       "      <td>1</td>\n",
       "      <td>1</td>\n",
       "      <td>7</td>\n",
       "      <td>0</td>\n",
       "      <td>1</td>\n",
       "      <td>1</td>\n",
       "      <td>2</td>\n",
       "      <td>2</td>\n",
       "      <td>2</td>\n",
       "      <td>1</td>\n",
       "      <td>1</td>\n",
       "      <td>100</td>\n",
       "      <td>41326</td>\n",
       "      <td>8480853f516546f6cf33aa88cd76c379</td>\n",
       "      <td>0</td>\n",
       "      <td>Nibble is a 3+ month old ball of cuteness. He ...</td>\n",
       "      <td>1.0</td>\n",
       "      <td>2</td>\n",
       "      <td>2.4</td>\n",
       "      <td>0.3</td>\n",
       "      <td>6.0</td>\n",
       "      <td>0.366667</td>\n",
       "      <td>0.350238</td>\n",
       "      <td>0.0</td>\n",
       "      <td>0.125</td>\n",
       "      <td>0.25</td>\n",
       "      <td>0.675</td>\n",
       "      <td>0.8</td>\n",
       "      <td>6.0</td>\n",
       "      <td>0.300000</td>\n",
       "      <td>0.419524</td>\n",
       "      <td>-0.2</td>\n",
       "      <td>0.025</td>\n",
       "      <td>0.20</td>\n",
       "      <td>0.675</td>\n",
       "      <td>0.8</td>\n",
       "      <td>1.0</td>\n",
       "      <td>8.0</td>\n",
       "      <td>1.0</td>\n",
       "      <td>3.0</td>\n",
       "      <td>catblack catsmall to medium sized cats</td>\n",
       "      <td>0.8</td>\n",
       "      <td>1.00</td>\n",
       "      <td>25.0</td>\n",
       "      <td>20.0</td>\n",
       "      <td>21.0</td>\n",
       "      <td>0.302789</td>\n",
       "      <td>0.393910</td>\n",
       "      <td>209.0</td>\n",
       "      <td>183.0</td>\n",
       "      <td>167.0</td>\n",
       "      <td>0.131764</td>\n",
       "      <td>0.016942</td>\n",
       "      <td>9.0</td>\n",
       "      <td>0.830798</td>\n",
       "      <td>0.117479</td>\n",
       "      <td>0.680083</td>\n",
       "      <td>0.740000</td>\n",
       "      <td>0.853989</td>\n",
       "      <td>0.919535</td>\n",
       "      <td>0.990786</td>\n",
       "      <td>9.0</td>\n",
       "      <td>0.830798</td>\n",
       "      <td>0.117479</td>\n",
       "      <td>0.680083</td>\n",
       "      <td>0.740000</td>\n",
       "      <td>0.853989</td>\n",
       "      <td>0.919535</td>\n",
       "      <td>0.990786</td>\n",
       "      <td>NaN</td>\n",
       "      <td>NaN</td>\n",
       "      <td>NaN</td>\n",
       "      <td>359.0</td>\n",
       "    </tr>\n",
       "    <tr>\n",
       "      <th>6296e909a</th>\n",
       "      <td>2</td>\n",
       "      <td>No Name Yet</td>\n",
       "      <td>1</td>\n",
       "      <td>265</td>\n",
       "      <td>0</td>\n",
       "      <td>1</td>\n",
       "      <td>1</td>\n",
       "      <td>2</td>\n",
       "      <td>0</td>\n",
       "      <td>2</td>\n",
       "      <td>2</td>\n",
       "      <td>3</td>\n",
       "      <td>3</td>\n",
       "      <td>3</td>\n",
       "      <td>1</td>\n",
       "      <td>1</td>\n",
       "      <td>0</td>\n",
       "      <td>41401</td>\n",
       "      <td>3082c7125d8fb66f7dd4bff4192c8b14</td>\n",
       "      <td>0</td>\n",
       "      <td>I just found it alone yesterday near my apartm...</td>\n",
       "      <td>2.0</td>\n",
       "      <td>0</td>\n",
       "      <td>0.7</td>\n",
       "      <td>-0.2</td>\n",
       "      <td>2.0</td>\n",
       "      <td>0.350000</td>\n",
       "      <td>0.353553</td>\n",
       "      <td>0.1</td>\n",
       "      <td>0.225</td>\n",
       "      <td>0.35</td>\n",
       "      <td>0.475</td>\n",
       "      <td>0.6</td>\n",
       "      <td>2.0</td>\n",
       "      <td>-0.250000</td>\n",
       "      <td>0.494975</td>\n",
       "      <td>-0.6</td>\n",
       "      <td>-0.425</td>\n",
       "      <td>-0.25</td>\n",
       "      <td>-0.075</td>\n",
       "      <td>0.1</td>\n",
       "      <td>NaN</td>\n",
       "      <td>1.0</td>\n",
       "      <td>1.0</td>\n",
       "      <td>NaN</td>\n",
       "      <td>catwhiskerssmall to medium sized cats</td>\n",
       "      <td>0.8</td>\n",
       "      <td>1.00</td>\n",
       "      <td>19.0</td>\n",
       "      <td>24.0</td>\n",
       "      <td>17.0</td>\n",
       "      <td>0.348178</td>\n",
       "      <td>0.261856</td>\n",
       "      <td>32.0</td>\n",
       "      <td>55.0</td>\n",
       "      <td>31.0</td>\n",
       "      <td>0.169270</td>\n",
       "      <td>0.095258</td>\n",
       "      <td>10.0</td>\n",
       "      <td>0.803185</td>\n",
       "      <td>0.118138</td>\n",
       "      <td>0.616398</td>\n",
       "      <td>0.707567</td>\n",
       "      <td>0.826417</td>\n",
       "      <td>0.879332</td>\n",
       "      <td>0.981269</td>\n",
       "      <td>10.0</td>\n",
       "      <td>0.803185</td>\n",
       "      <td>0.118138</td>\n",
       "      <td>0.616398</td>\n",
       "      <td>0.707567</td>\n",
       "      <td>0.826417</td>\n",
       "      <td>0.879332</td>\n",
       "      <td>0.981269</td>\n",
       "      <td>NaN</td>\n",
       "      <td>NaN</td>\n",
       "      <td>NaN</td>\n",
       "      <td>118.0</td>\n",
       "    </tr>\n",
       "    <tr>\n",
       "      <th>3422e4906</th>\n",
       "      <td>1</td>\n",
       "      <td>Brisco</td>\n",
       "      <td>1</td>\n",
       "      <td>307</td>\n",
       "      <td>0</td>\n",
       "      <td>1</td>\n",
       "      <td>2</td>\n",
       "      <td>7</td>\n",
       "      <td>0</td>\n",
       "      <td>2</td>\n",
       "      <td>2</td>\n",
       "      <td>1</td>\n",
       "      <td>1</td>\n",
       "      <td>2</td>\n",
       "      <td>1</td>\n",
       "      <td>1</td>\n",
       "      <td>0</td>\n",
       "      <td>41326</td>\n",
       "      <td>fa90fa5b1ee11c86938398b60abc32cb</td>\n",
       "      <td>0</td>\n",
       "      <td>Their pregnant mother was dumped by her irresp...</td>\n",
       "      <td>7.0</td>\n",
       "      <td>3</td>\n",
       "      <td>3.7</td>\n",
       "      <td>0.2</td>\n",
       "      <td>7.0</td>\n",
       "      <td>0.485714</td>\n",
       "      <td>0.380476</td>\n",
       "      <td>0.0</td>\n",
       "      <td>0.150</td>\n",
       "      <td>0.60</td>\n",
       "      <td>0.800</td>\n",
       "      <td>0.9</td>\n",
       "      <td>7.0</td>\n",
       "      <td>0.200000</td>\n",
       "      <td>0.611010</td>\n",
       "      <td>-0.9</td>\n",
       "      <td>-0.050</td>\n",
       "      <td>0.20</td>\n",
       "      <td>0.650</td>\n",
       "      <td>0.9</td>\n",
       "      <td>NaN</td>\n",
       "      <td>5.0</td>\n",
       "      <td>4.0</td>\n",
       "      <td>3.0</td>\n",
       "      <td>dogdog like mammaldog breed</td>\n",
       "      <td>0.8</td>\n",
       "      <td>1.00</td>\n",
       "      <td>61.0</td>\n",
       "      <td>55.0</td>\n",
       "      <td>51.0</td>\n",
       "      <td>0.333318</td>\n",
       "      <td>0.055064</td>\n",
       "      <td>87.0</td>\n",
       "      <td>79.0</td>\n",
       "      <td>74.0</td>\n",
       "      <td>0.211601</td>\n",
       "      <td>0.049081</td>\n",
       "      <td>10.0</td>\n",
       "      <td>0.787158</td>\n",
       "      <td>0.134348</td>\n",
       "      <td>0.616009</td>\n",
       "      <td>0.685727</td>\n",
       "      <td>0.732519</td>\n",
       "      <td>0.931543</td>\n",
       "      <td>0.960457</td>\n",
       "      <td>10.0</td>\n",
       "      <td>0.787158</td>\n",
       "      <td>0.134348</td>\n",
       "      <td>0.616009</td>\n",
       "      <td>0.685727</td>\n",
       "      <td>0.732519</td>\n",
       "      <td>0.931543</td>\n",
       "      <td>0.960457</td>\n",
       "      <td>1.0</td>\n",
       "      <td>NaN</td>\n",
       "      <td>NaN</td>\n",
       "      <td>393.0</td>\n",
       "    </tr>\n",
       "    <tr>\n",
       "      <th>5842f1ff5</th>\n",
       "      <td>1</td>\n",
       "      <td>Miko</td>\n",
       "      <td>4</td>\n",
       "      <td>307</td>\n",
       "      <td>0</td>\n",
       "      <td>2</td>\n",
       "      <td>1</td>\n",
       "      <td>2</td>\n",
       "      <td>0</td>\n",
       "      <td>2</td>\n",
       "      <td>1</td>\n",
       "      <td>1</td>\n",
       "      <td>1</td>\n",
       "      <td>2</td>\n",
       "      <td>1</td>\n",
       "      <td>1</td>\n",
       "      <td>150</td>\n",
       "      <td>41401</td>\n",
       "      <td>9238e4f44c71a75282e62f7136c6b240</td>\n",
       "      <td>0</td>\n",
       "      <td>Good guard dog, very alert, active, obedience ...</td>\n",
       "      <td>8.0</td>\n",
       "      <td>2</td>\n",
       "      <td>0.9</td>\n",
       "      <td>0.9</td>\n",
       "      <td>1.0</td>\n",
       "      <td>0.900000</td>\n",
       "      <td>NaN</td>\n",
       "      <td>0.9</td>\n",
       "      <td>0.900</td>\n",
       "      <td>0.90</td>\n",
       "      <td>0.900</td>\n",
       "      <td>0.9</td>\n",
       "      <td>1.0</td>\n",
       "      <td>0.900000</td>\n",
       "      <td>NaN</td>\n",
       "      <td>0.9</td>\n",
       "      <td>0.900</td>\n",
       "      <td>0.90</td>\n",
       "      <td>0.900</td>\n",
       "      <td>0.9</td>\n",
       "      <td>NaN</td>\n",
       "      <td>5.0</td>\n",
       "      <td>NaN</td>\n",
       "      <td>1.0</td>\n",
       "      <td>dogdog like mammaldog breed</td>\n",
       "      <td>0.8</td>\n",
       "      <td>1.00</td>\n",
       "      <td>54.0</td>\n",
       "      <td>50.0</td>\n",
       "      <td>47.0</td>\n",
       "      <td>0.136823</td>\n",
       "      <td>0.127818</td>\n",
       "      <td>175.0</td>\n",
       "      <td>157.0</td>\n",
       "      <td>132.0</td>\n",
       "      <td>0.055493</td>\n",
       "      <td>0.038675</td>\n",
       "      <td>10.0</td>\n",
       "      <td>0.759658</td>\n",
       "      <td>0.176650</td>\n",
       "      <td>0.538057</td>\n",
       "      <td>0.601256</td>\n",
       "      <td>0.767753</td>\n",
       "      <td>0.922267</td>\n",
       "      <td>0.978698</td>\n",
       "      <td>10.0</td>\n",
       "      <td>0.759658</td>\n",
       "      <td>0.176650</td>\n",
       "      <td>0.538057</td>\n",
       "      <td>0.601256</td>\n",
       "      <td>0.767753</td>\n",
       "      <td>0.922267</td>\n",
       "      <td>0.978698</td>\n",
       "      <td>NaN</td>\n",
       "      <td>NaN</td>\n",
       "      <td>NaN</td>\n",
       "      <td>146.0</td>\n",
       "    </tr>\n",
       "    <tr>\n",
       "      <th>850a43f90</th>\n",
       "      <td>1</td>\n",
       "      <td>Hunter</td>\n",
       "      <td>1</td>\n",
       "      <td>307</td>\n",
       "      <td>0</td>\n",
       "      <td>1</td>\n",
       "      <td>1</td>\n",
       "      <td>0</td>\n",
       "      <td>0</td>\n",
       "      <td>2</td>\n",
       "      <td>1</td>\n",
       "      <td>2</td>\n",
       "      <td>2</td>\n",
       "      <td>2</td>\n",
       "      <td>1</td>\n",
       "      <td>1</td>\n",
       "      <td>0</td>\n",
       "      <td>41326</td>\n",
       "      <td>95481e953f8aed9ec3d16fc4509537e8</td>\n",
       "      <td>0</td>\n",
       "      <td>This handsome yet cute boy is up for adoption....</td>\n",
       "      <td>3.0</td>\n",
       "      <td>2</td>\n",
       "      <td>3.7</td>\n",
       "      <td>0.6</td>\n",
       "      <td>6.0</td>\n",
       "      <td>0.583333</td>\n",
       "      <td>0.292689</td>\n",
       "      <td>0.0</td>\n",
       "      <td>0.625</td>\n",
       "      <td>0.70</td>\n",
       "      <td>0.700</td>\n",
       "      <td>0.8</td>\n",
       "      <td>6.0</td>\n",
       "      <td>0.583333</td>\n",
       "      <td>0.292689</td>\n",
       "      <td>0.0</td>\n",
       "      <td>0.625</td>\n",
       "      <td>0.70</td>\n",
       "      <td>0.700</td>\n",
       "      <td>0.8</td>\n",
       "      <td>NaN</td>\n",
       "      <td>8.0</td>\n",
       "      <td>1.0</td>\n",
       "      <td>3.0</td>\n",
       "      <td>dogdog like mammaldog breed</td>\n",
       "      <td>0.8</td>\n",
       "      <td>0.98</td>\n",
       "      <td>24.0</td>\n",
       "      <td>19.0</td>\n",
       "      <td>21.0</td>\n",
       "      <td>0.256168</td>\n",
       "      <td>0.126334</td>\n",
       "      <td>213.0</td>\n",
       "      <td>188.0</td>\n",
       "      <td>172.0</td>\n",
       "      <td>0.128009</td>\n",
       "      <td>0.055988</td>\n",
       "      <td>10.0</td>\n",
       "      <td>0.848929</td>\n",
       "      <td>0.132969</td>\n",
       "      <td>0.604277</td>\n",
       "      <td>0.784551</td>\n",
       "      <td>0.913524</td>\n",
       "      <td>0.939947</td>\n",
       "      <td>0.984346</td>\n",
       "      <td>10.0</td>\n",
       "      <td>0.848929</td>\n",
       "      <td>0.132969</td>\n",
       "      <td>0.604277</td>\n",
       "      <td>0.784551</td>\n",
       "      <td>0.913524</td>\n",
       "      <td>0.939947</td>\n",
       "      <td>0.984346</td>\n",
       "      <td>NaN</td>\n",
       "      <td>1.0</td>\n",
       "      <td>NaN</td>\n",
       "      <td>390.0</td>\n",
       "    </tr>\n",
       "  </tbody>\n",
       "</table>\n",
       "</div>"
      ],
      "text/plain": [
       "           Type         Name    ...     CONSUMER_GOOD  CharCont\n",
       "86e1089a3     2       Nibble    ...               NaN     359.0\n",
       "6296e909a     2  No Name Yet    ...               NaN     118.0\n",
       "3422e4906     1       Brisco    ...               NaN     393.0\n",
       "5842f1ff5     1         Miko    ...               NaN     146.0\n",
       "850a43f90     1       Hunter    ...               NaN     390.0\n",
       "\n",
       "[5 rows x 78 columns]"
      ]
     },
     "execution_count": 30,
     "metadata": {},
     "output_type": "execute_result"
    }
   ],
   "source": [
    "full_train.head()"
   ]
  },
  {
   "cell_type": "markdown",
   "metadata": {
    "_uuid": "84499c174a66b3f96c08e5ed893735a428ec655c"
   },
   "source": [
    "Now we have additional datasets for train and for test. They both have NaNs and text values. To simplify our job, lets put all text values in one column. And process it together."
   ]
  },
  {
   "cell_type": "code",
   "execution_count": 31,
   "metadata": {
    "_uuid": "c40dc630918ae6fc21cd525c5783f6706bc500c5"
   },
   "outputs": [],
   "source": [
    "# column_types = full_train.dtypes\n",
    "\n",
    "# int_cols = column_types[column_types == 'int'].index.tolist()\n",
    "# float_cols = column_types[column_types == 'float'].index.tolist()\n",
    "# cat_cols = column_types[column_types == 'object'].index.tolist()\n",
    "\n",
    "# print('\\tinteger columns:\\n{}'.format(int_cols))\n",
    "# print('\\n\\tfloat columns:\\n{}'.format(float_cols))\n",
    "# print('\\n\\tto encode columns:\\n{}'.format(cat_cols))"
   ]
  },
  {
   "cell_type": "markdown",
   "metadata": {
    "_uuid": "8abbc825ec28413bed3328f88d660800ecd2a8d9"
   },
   "source": [
    "Let's now focuse on descriptions of pets."
   ]
  },
  {
   "cell_type": "code",
   "execution_count": 32,
   "metadata": {
    "_uuid": "7fbdb2c7e8d2b5c931977d1df848d9b7adb37b06"
   },
   "outputs": [],
   "source": [
    "# cat_cols_to_descr = np.array(cat_cols)\n",
    "# cat_cols_to_descr = np.delete(cat_cols_to_descr, [1,2])"
   ]
  },
  {
   "cell_type": "code",
   "execution_count": 33,
   "metadata": {
    "_uuid": "32b564a52f9e91d16854e2b266d2227db2a70c0c"
   },
   "outputs": [],
   "source": [
    "# full_train[cat_cols_to_descr] = full_train[cat_cols_to_descr].fillna(' ')\n",
    "# full_test[cat_cols_to_descr] = full_test[cat_cols_to_descr].fillna(' ')"
   ]
  },
  {
   "cell_type": "code",
   "execution_count": 34,
   "metadata": {
    "_uuid": "a0abecbae5714758a4e72175d67c6aabd2c9d883"
   },
   "outputs": [],
   "source": [
    "# for col in cat_cols_to_descr:\n",
    "#     full_train['Description'] = full_train['Description'].map(str) + ' ' + full_train[col].map(str)\n",
    "# full_train.drop(columns=cat_cols_to_descr, inplace=True)"
   ]
  },
  {
   "cell_type": "code",
   "execution_count": 35,
   "metadata": {
    "_uuid": "bdea69c49d5062b37f612153a0999138df519cb2"
   },
   "outputs": [],
   "source": [
    "# for col in cat_cols_to_descr:\n",
    "#     full_test['Description'] = full_test['Description'].map(str) + ' ' + full_test[col].map(str)\n",
    "# full_test.drop(columns=cat_cols_to_descr, inplace=True)"
   ]
  },
  {
   "cell_type": "code",
   "execution_count": 36,
   "metadata": {
    "_uuid": "eab6e9f8e26f114169993b14fed35060e5c7e5ee"
   },
   "outputs": [],
   "source": [
    "# full_train['Description'].fillna('MISSING', inplace=True)\n",
    "# full_test['Description'].fillna('MISSING', inplace=True)"
   ]
  },
  {
   "cell_type": "code",
   "execution_count": 37,
   "metadata": {
    "_uuid": "2606f9b4db685c98ed6ac27dddfca4cfe69d3b19"
   },
   "outputs": [],
   "source": [
    "# full_train.fillna(0, inplace=True)\n",
    "# full_test.fillna(0, inplace=True)"
   ]
  },
  {
   "cell_type": "markdown",
   "metadata": {
    "_uuid": "ffc0fb7f500d811fc060359e324faec6875ae6f8"
   },
   "source": [
    "Now we don't have any NaN in our datasets."
   ]
  },
  {
   "cell_type": "code",
   "execution_count": 38,
   "metadata": {
    "_uuid": "d21182fd8cde12bce43ee859b54ebd1f2d43c7d2"
   },
   "outputs": [
    {
     "name": "stdout",
     "output_type": "stream",
     "text": [
      "\tinteger columns:\n",
      "Type             int64\n",
      "Age              int64\n",
      "Breed1           int64\n",
      "Breed2           int64\n",
      "Gender           int64\n",
      "Color1           int64\n",
      "Color2           int64\n",
      "Color3           int64\n",
      "MaturitySize     int64\n",
      "FurLength        int64\n",
      "Vaccinated       int64\n",
      "Dewormed         int64\n",
      "Sterilized       int64\n",
      "Health           int64\n",
      "Quantity         int64\n",
      "Fee              int64\n",
      "State            int64\n",
      "VideoAmt         int64\n",
      "AdoptionSpeed    int64\n",
      "dtype: object\n",
      "\n",
      "\tfloat columns:\n",
      "PhotoAmt                            float64\n",
      "document_magnitude                  float64\n",
      "document_score                      float64\n",
      "sentences_magnitude_count           float64\n",
      "sentences_magnitude_mean            float64\n",
      "sentences_magnitude_std             float64\n",
      "sentences_magnitude_min             float64\n",
      "sentences_magnitude_25%             float64\n",
      "sentences_magnitude_50%             float64\n",
      "sentences_magnitude_75%             float64\n",
      "sentences_magnitude_max             float64\n",
      "sentences_score_count               float64\n",
      "sentences_score_mean                float64\n",
      "sentences_score_std                 float64\n",
      "sentences_score_min                 float64\n",
      "sentences_score_25%                 float64\n",
      "sentences_score_50%                 float64\n",
      "sentences_score_75%                 float64\n",
      "sentences_score_max                 float64\n",
      "ORGANIZATION                        float64\n",
      "OTHER                               float64\n",
      "LOCATION                            float64\n",
      "PERSON                              float64\n",
      "metadata_crop_conf_mean             float64\n",
      "metadata_crop_importance            float64\n",
      "metadata_red_0                      float64\n",
      "metadata_green_0                    float64\n",
      "metadata_blue_0                     float64\n",
      "metadata_score_0                    float64\n",
      "metadata_pixelFraction_0            float64\n",
      "metadata_red_1                      float64\n",
      "metadata_green_1                    float64\n",
      "metadata_blue_1                     float64\n",
      "metadata_score_1                    float64\n",
      "metadata_pixelFraction_1            float64\n",
      "metadata_annots_score_count         float64\n",
      "metadata_annots_score_mean          float64\n",
      "metadata_annots_score_std           float64\n",
      "metadata_annots_score_min           float64\n",
      "metadata_annots_score_25%           float64\n",
      "metadata_annots_score_50%           float64\n",
      "metadata_annots_score_75%           float64\n",
      "metadata_annots_score_max           float64\n",
      "metadata_annots_topicality_count    float64\n",
      "metadata_annots_topicality_mean     float64\n",
      "metadata_annots_topicality_std      float64\n",
      "metadata_annots_topicality_min      float64\n",
      "metadata_annots_topicality_25%      float64\n",
      "metadata_annots_topicality_50%      float64\n",
      "metadata_annots_topicality_75%      float64\n",
      "metadata_annots_topicality_max      float64\n",
      "EVENT                               float64\n",
      "WORK_OF_ART                         float64\n",
      "CONSUMER_GOOD                       float64\n",
      "CharCont                            float64\n",
      "dtype: object\n",
      "\n",
      "\tto encode columns:\n",
      "Name                       object\n",
      "RescuerID                  object\n",
      "Description                object\n",
      "metadata_top_decription    object\n",
      "dtype: object\n"
     ]
    }
   ],
   "source": [
    "column_types = full_train.dtypes\n",
    "\n",
    "int_cols = column_types[column_types == 'int']\n",
    "float_cols = column_types[column_types == 'float']\n",
    "cat_cols = column_types[column_types == 'object']\n",
    "\n",
    "print('\\tinteger columns:\\n{}'.format(int_cols))\n",
    "print('\\n\\tfloat columns:\\n{}'.format(float_cols))\n",
    "print('\\n\\tto encode columns:\\n{}'.format(cat_cols))"
   ]
  },
  {
   "cell_type": "code",
   "execution_count": 39,
   "metadata": {
    "_uuid": "54df925a8c27ddba337290cefdc34a9328519859"
   },
   "outputs": [],
   "source": [
    "train_descr = [' '.join(str(s).lower().split()) for s in full_train['Description'].tolist()]\n",
    "train_descr = [' '.join(re.findall('[A-Za-z]+', s)) for s in train_descr]\n",
    "full_train['Description'] = train_descr"
   ]
  },
  {
   "cell_type": "code",
   "execution_count": 40,
   "metadata": {
    "_uuid": "a438d5c68e10458fed94b2c74d700a5b5a2c80e4"
   },
   "outputs": [
    {
     "data": {
      "text/plain": [
       "'nibble is a month old ball of cuteness he is energetic and playful i rescued a couple of cats a few months ago but could not get them neutered in time as the clinic was fully scheduled the result was this little kitty i do not have enough space and funds to care for more cats in my household looking for responsible people to take over nibble s care'"
      ]
     },
     "execution_count": 40,
     "metadata": {},
     "output_type": "execute_result"
    }
   ],
   "source": [
    "full_train['Description'].iloc[0]"
   ]
  },
  {
   "cell_type": "code",
   "execution_count": 41,
   "metadata": {
    "_uuid": "3bcae0cd0d9cad10c348305cd6544d7c9eceb0d1"
   },
   "outputs": [],
   "source": [
    "test_descr = [' '.join(str(s).lower().split()) for s in full_test['Description'].tolist()]\n",
    "test_descr = [' '.join(re.findall('[A-Za-z]+', s)) for s in test_descr]\n",
    "full_test['Description'] = test_descr"
   ]
  },
  {
   "cell_type": "code",
   "execution_count": 42,
   "metadata": {
    "_uuid": "e44f72067966b51602ee59e5e0b26739bb400893"
   },
   "outputs": [],
   "source": [
    "#nltk.download('stopwords')\n",
    "stop_words = stopwords.words('english')\n",
    "stemmer = PorterStemmer()\n",
    "final = []\n",
    "for line in (full_train['Description'].tolist()):\n",
    "    tokens = word_tokenize(line)\n",
    "    no_stop = [i for i in tokens if not i in stop_words]\n",
    "    no_end = [stemmer.stem(i) for i in no_stop]\n",
    "    final.append(' '.join(no_end))\n",
    "full_train['Description'] = final"
   ]
  },
  {
   "cell_type": "code",
   "execution_count": 43,
   "metadata": {
    "_uuid": "442b087ff515acaab704c482d76b64ba5cefad3e"
   },
   "outputs": [],
   "source": [
    "final = []\n",
    "for line in (full_test['Description'].tolist()):\n",
    "    tokens = word_tokenize(line)\n",
    "    no_stop = [i for i in tokens if not i in stop_words]\n",
    "    no_end = [stemmer.stem(i) for i in no_stop]\n",
    "    final.append(' '.join(no_end))\n",
    "full_test['Description'] = final"
   ]
  },
  {
   "cell_type": "code",
   "execution_count": 44,
   "metadata": {
    "_uuid": "2511dcd28f0b84750861311d6bf7e53733f05019"
   },
   "outputs": [
    {
     "data": {
      "text/plain": [
       "'nibbl month old ball cute energet play rescu coupl cat month ago could get neuter time clinic fulli schedul result littl kitti enough space fund care cat household look respons peopl take nibbl care'"
      ]
     },
     "execution_count": 44,
     "metadata": {},
     "output_type": "execute_result"
    }
   ],
   "source": [
    "full_train['Description'].iloc[0]"
   ]
  },
  {
   "cell_type": "code",
   "execution_count": 45,
   "metadata": {
    "_uuid": "45fdbdd71adbc3dbc76e8acef02b33ff3b5f7d49"
   },
   "outputs": [],
   "source": [
    "full_train.to_csv(\"./full_train_before_tfidf.csv\")\n",
    "full_test.to_csv(\"./full_test_before_tfidf.csv\")"
   ]
  },
  {
   "cell_type": "markdown",
   "metadata": {
    "_uuid": "4b9a518a07cae58bbc6d3d35c05ab97904bd0fb2"
   },
   "source": [
    "### Start TFIDF"
   ]
  },
  {
   "cell_type": "code",
   "execution_count": 46,
   "metadata": {
    "_uuid": "7b437873701bddb1a3093bd5148de98f82dfd435"
   },
   "outputs": [],
   "source": [
    "full_train = pd.read_csv(\"../input/intermediate-data/full_train_before_tfidf.csv\", index_col = 'Unnamed: 0')\n",
    "full_test = pd.read_csv(\"../input/intermediate-data/full_test_before_tfidf.csv\", index_col = 'Unnamed: 0')"
   ]
  },
  {
   "cell_type": "code",
   "execution_count": 47,
   "metadata": {
    "_uuid": "0ef577a1bde45159261cf8a4cb8c85d8f92a5381"
   },
   "outputs": [
    {
     "data": {
      "text/plain": [
       "'nibbl month old ball cute energet play rescu coupl cat month ago could get neuter time clinic fulli schedul result littl kitti enough space fund care cat household look respons peopl take nibbl care nibbl catblack catsmal medium size cat tabbi black white selangor'"
      ]
     },
     "execution_count": 47,
     "metadata": {},
     "output_type": "execute_result"
    }
   ],
   "source": [
    "full_train.Description.iloc[0]"
   ]
  },
  {
   "cell_type": "code",
   "execution_count": 48,
   "metadata": {
    "_uuid": "2c981ac74f718729ce0763766c9bba0e48ed8d27"
   },
   "outputs": [],
   "source": [
    "vect = TfidfVectorizer(min_df=0.05, ngram_range=(1,2),\n",
    "                             analyzer='word', stop_words ='english')\n",
    "\n",
    "vec_train = vect.fit_transform(full_train['Description'])\n",
    "vec_test = vect.transform(full_test['Description'])"
   ]
  },
  {
   "cell_type": "code",
   "execution_count": 49,
   "metadata": {
    "_uuid": "4b5eebc8bfcbd1deaab6c91b365cdacc014acfeb"
   },
   "outputs": [
    {
     "data": {
      "text/plain": [
       "(14993, 157)"
      ]
     },
     "execution_count": 49,
     "metadata": {},
     "output_type": "execute_result"
    }
   ],
   "source": [
    "vec_train.shape"
   ]
  },
  {
   "cell_type": "code",
   "execution_count": 50,
   "metadata": {
    "_uuid": "e5c725b29de0240df39cba2ed9ced32d1d72fb91"
   },
   "outputs": [],
   "source": [
    "vec_train = pd.DataFrame(vec_train.todense(), index=full_train.index).add_prefix('tfidf_')\n",
    "vec_test = pd.DataFrame(vec_test.todense(), index=full_test.index).add_prefix('tfidf_')"
   ]
  },
  {
   "cell_type": "code",
   "execution_count": 51,
   "metadata": {
    "_uuid": "e8456600bc05c56e6a5e04804df4a16c10555ee9"
   },
   "outputs": [],
   "source": [
    "full_train = pd.concat([full_train,vec_train], axis=1)\n",
    "full_test = pd.concat([full_test,vec_test], axis=1)"
   ]
  },
  {
   "cell_type": "code",
   "execution_count": 52,
   "metadata": {
    "_uuid": "fb6a02f3966ca5be5e654c04fd6e7ecc6933b3af"
   },
   "outputs": [],
   "source": [
    "# vect2 = TfidfVectorizer()\n",
    "\n",
    "# vec2_train = vect2.fit_transform(full_train['Description'])\n",
    "# vec2_test = vect2.transform(full_test['Description'])"
   ]
  },
  {
   "cell_type": "code",
   "execution_count": 53,
   "metadata": {
    "_uuid": "cb97d38f9708f291678653cee13209d76c9e0337"
   },
   "outputs": [],
   "source": [
    "# from sklearn.decomposition import TruncatedSVD, MiniBatchSparsePCA\n",
    "# pca = MiniBatchSparsePCA(n_components=100, random_state=42)\n",
    "# pca_train = pca.fit_transform(vec2_train.todense())\n",
    "# pca_test = pca.transform(vec2_test.todense())"
   ]
  },
  {
   "cell_type": "code",
   "execution_count": 54,
   "metadata": {
    "_uuid": "f8c41e47e20ee2e99a3f7f737d874a8d7e8d9f87"
   },
   "outputs": [],
   "source": [
    "# pca_train = pd.DataFrame(pca_train, index=full_train.index).add_prefix('pca_tfidf_')\n",
    "# pca_test = pd.DataFrame(pca_test, index=full_test.index).add_prefix('pca_tfidf_')"
   ]
  },
  {
   "cell_type": "code",
   "execution_count": 55,
   "metadata": {
    "_uuid": "e6b3cedee1bf5947cc31f371286100188fc64e63"
   },
   "outputs": [],
   "source": [
    "# full_train = pd.concat([full_train,pca_train], axis=1)\n",
    "# full_test = pd.concat([full_test,pca_test], axis=1)"
   ]
  },
  {
   "cell_type": "code",
   "execution_count": 56,
   "metadata": {
    "_uuid": "d32916e8d7f7f660b247855a2a2c63fbd1913065"
   },
   "outputs": [],
   "source": [
    "full_train.drop(columns='Description', inplace=True)\n",
    "full_test.drop(columns='Description', inplace=True)"
   ]
  },
  {
   "cell_type": "code",
   "execution_count": 57,
   "metadata": {
    "_uuid": "acaeb7cf59aae4a252557909e35030dd9df063ea"
   },
   "outputs": [
    {
     "name": "stdout",
     "output_type": "stream",
     "text": [
      "\tinteger columns:\n",
      "Type             int64\n",
      "Age              int64\n",
      "Breed1           int64\n",
      "Breed2           int64\n",
      "Gender           int64\n",
      "Color1           int64\n",
      "Color2           int64\n",
      "Color3           int64\n",
      "MaturitySize     int64\n",
      "FurLength        int64\n",
      "Vaccinated       int64\n",
      "Dewormed         int64\n",
      "Sterilized       int64\n",
      "Health           int64\n",
      "Quantity         int64\n",
      "Fee              int64\n",
      "State            int64\n",
      "VideoAmt         int64\n",
      "AdoptionSpeed    int64\n",
      "dtype: object\n",
      "\n",
      "\tfloat columns:\n",
      "PhotoAmt                     float64\n",
      "document_magnitude           float64\n",
      "document_score               float64\n",
      "sentences_magnitude_count    float64\n",
      "sentences_magnitude_mean     float64\n",
      "sentences_magnitude_std      float64\n",
      "sentences_magnitude_min      float64\n",
      "sentences_magnitude_25%      float64\n",
      "sentences_magnitude_50%      float64\n",
      "sentences_magnitude_75%      float64\n",
      "sentences_magnitude_max      float64\n",
      "sentences_score_count        float64\n",
      "sentences_score_mean         float64\n",
      "sentences_score_std          float64\n",
      "sentences_score_min          float64\n",
      "sentences_score_25%          float64\n",
      "sentences_score_50%          float64\n",
      "sentences_score_75%          float64\n",
      "sentences_score_max          float64\n",
      "ORGANIZATION                 float64\n",
      "OTHER                        float64\n",
      "LOCATION                     float64\n",
      "PERSON                       float64\n",
      "metadata_crop_conf_mean      float64\n",
      "metadata_crop_importance     float64\n",
      "metadata_red_0               float64\n",
      "metadata_green_0             float64\n",
      "metadata_blue_0              float64\n",
      "metadata_score_0             float64\n",
      "metadata_pixelFraction_0     float64\n",
      "                              ...   \n",
      "tfidf_127                    float64\n",
      "tfidf_128                    float64\n",
      "tfidf_129                    float64\n",
      "tfidf_130                    float64\n",
      "tfidf_131                    float64\n",
      "tfidf_132                    float64\n",
      "tfidf_133                    float64\n",
      "tfidf_134                    float64\n",
      "tfidf_135                    float64\n",
      "tfidf_136                    float64\n",
      "tfidf_137                    float64\n",
      "tfidf_138                    float64\n",
      "tfidf_139                    float64\n",
      "tfidf_140                    float64\n",
      "tfidf_141                    float64\n",
      "tfidf_142                    float64\n",
      "tfidf_143                    float64\n",
      "tfidf_144                    float64\n",
      "tfidf_145                    float64\n",
      "tfidf_146                    float64\n",
      "tfidf_147                    float64\n",
      "tfidf_148                    float64\n",
      "tfidf_149                    float64\n",
      "tfidf_150                    float64\n",
      "tfidf_151                    float64\n",
      "tfidf_152                    float64\n",
      "tfidf_153                    float64\n",
      "tfidf_154                    float64\n",
      "tfidf_155                    float64\n",
      "tfidf_156                    float64\n",
      "Length: 212, dtype: object\n",
      "\n",
      "\tto encode columns:\n",
      "RescuerID    object\n",
      "dtype: object\n"
     ]
    }
   ],
   "source": [
    "column_types = full_train.dtypes\n",
    "\n",
    "int_cols = column_types[column_types == 'int']\n",
    "float_cols = column_types[column_types == 'float']\n",
    "cat_cols = column_types[column_types == 'object']\n",
    "\n",
    "print('\\tinteger columns:\\n{}'.format(int_cols))\n",
    "print('\\n\\tfloat columns:\\n{}'.format(float_cols))\n",
    "print('\\n\\tto encode columns:\\n{}'.format(cat_cols))"
   ]
  },
  {
   "cell_type": "code",
   "execution_count": 58,
   "metadata": {
    "_uuid": "248be64814f5805f4b1d423f303266438509b379"
   },
   "outputs": [],
   "source": [
    "full_train.to_csv(\"./full_train_tfidf.csv\")\n",
    "full_test.to_csv(\"./full_test_tfidf.csv\")"
   ]
  },
  {
   "cell_type": "markdown",
   "metadata": {
    "_uuid": "c6d2e34b9d0dd5de641db8eaf925d44758a4c260"
   },
   "source": [
    "#### START of target encoding of categorical features"
   ]
  },
  {
   "cell_type": "code",
   "execution_count": 59,
   "metadata": {
    "_uuid": "6d53239a0f74c8fddab6ef60600eb4350737a90a"
   },
   "outputs": [],
   "source": [
    "# full_train = pd.read_csv(\"./full_train_tfidf.csv\", index_col = 'Unnamed: 0')\n",
    "# full_test = pd.read_csv(\"./full_test_tfidf.csv\", index_col = 'Unnamed: 0')"
   ]
  },
  {
   "cell_type": "markdown",
   "metadata": {
    "_uuid": "50711ac77d09fe876855c92261db39c228226915"
   },
   "source": [
    "#### STEP1 of target encoding of categorical features: recognize categorcal features"
   ]
  },
  {
   "cell_type": "code",
   "execution_count": 60,
   "metadata": {
    "_uuid": "66a97abcfacbbca5fb05dd40a4b0fdb2871b94b6"
   },
   "outputs": [
    {
     "name": "stderr",
     "output_type": "stream",
     "text": [
      "/opt/conda/lib/python3.6/site-packages/sklearn/preprocessing/label.py:219: DataConversionWarning: A column-vector y was passed when a 1d array was expected. Please change the shape of y to (n_samples, ), for example using ravel().\n",
      "  y = column_or_1d(y, warn=True)\n"
     ]
    }
   ],
   "source": [
    "df_newid = pd.DataFrame(data=['NEWID'], columns=[0])\n",
    "RescuerID_train = set(full_train['RescuerID'].values)\n",
    "full_test.loc[~full_test[\"RescuerID\"].isin(RescuerID_train), \"RescuerID\"] = \"NEWID\"\n",
    "\n",
    "RescuerID_encoder = LabelEncoder()\n",
    "RescuerID_encoder.fit(full_train['RescuerID'].append(df_newid))\n",
    "full_test['RescuerID'] = RescuerID_encoder.transform(full_test['RescuerID']) \n",
    "full_train['RescuerID'] = RescuerID_encoder.transform(full_train['RescuerID']) "
   ]
  },
  {
   "cell_type": "markdown",
   "metadata": {
    "_uuid": "43d9d8bed3680fd28be92bba1288424aa8e829e2"
   },
   "source": [
    "There some mistakes in encoding. If improve, uncommit."
   ]
  },
  {
   "cell_type": "code",
   "execution_count": 61,
   "metadata": {
    "_uuid": "e719f9e39e565b41d4a64c16dd223f49eeb3b54c"
   },
   "outputs": [],
   "source": [
    "# categorical_cols = ['RescuerID', 'Type', 'Color3', 'Dewormed', 'WORK_OF_ART']\n",
    "\n",
    "# for col_name in categorical_cols:\n",
    "#     full_train[col_name] = full_train[col_name].astype('str')\n",
    "#     full_test[col_name] = full_test[col_name].astype('str')\n",
    "# full_train['AdoptionSpeed'] = full_train['AdoptionSpeed'].astype('float')"
   ]
  },
  {
   "cell_type": "code",
   "execution_count": 62,
   "metadata": {
    "_uuid": "52c99e9f6fe1928aba004322b7d754b1726c0df8"
   },
   "outputs": [],
   "source": [
    "# def get_oof(encoder, x_train, y, x_test, kf):\n",
    "#     NFOLDS = kf.n_splits\n",
    "#     cnt_features = x_train.shape[1]\n",
    "#     oof_train = np.zeros((x_train.shape))\n",
    "#     oof_test = np.zeros((x_test.shape))\n",
    "#     oof_test_skf = np.empty((NFOLDS, x_test.shape[0], x_test.shape[1]))\n",
    "\n",
    "#     for i, (train_index, test_index) in zip(range(NFOLDS), kf.split(x_train)):\n",
    "#         print('\\nFold {}'.format(i))\n",
    "#         x_tr = x_train.iloc[train_index]\n",
    "#         y_tr = y.iloc[train_index]\n",
    "#         x_te = x_train.iloc[test_index]\n",
    "\n",
    "#         encoder.fit(x_tr, y_tr)\n",
    "#         oof_train[test_index] = encoder.transform(x_te).iloc[:, -cnt_features:]\n",
    "#         oof_test_skf[i, :, :] = encoder.transform(x_test).iloc[:, -cnt_features:]\n",
    "\n",
    "#     oof_test[:] = oof_test_skf.mean(axis=0)\n",
    "#     return oof_train, oof_test"
   ]
  },
  {
   "cell_type": "code",
   "execution_count": 63,
   "metadata": {
    "_uuid": "3fc9519947a61f314d8d18da1eb5479bf36870d0"
   },
   "outputs": [],
   "source": [
    "# import pandas as pd\n",
    "# import numpy as np\n",
    "# from tqdm import tqdm\n",
    "\n",
    "# # target encoding from https://gist.github.com/ohld/ebee1656316a76026945caf5a571195e\n",
    "# # (the sklearn's didn't work)\n",
    "# class SemenovEncoding(object):\n",
    "    \n",
    "#     def __init__(self, C=10):\n",
    "#         self.C = C\n",
    "    \n",
    "#     def fit(self, data, y, features='all'):\n",
    "#         self.y = y\n",
    "#         if features == 'all':\n",
    "#             self.features = sorted([i for i in data.columns if data[i].dtype == 'O'])\n",
    "#         else: \n",
    "#             self.features = features\n",
    "            \n",
    "#         self.global_mean = np.mean(y)\n",
    "#         self.values = dict()\n",
    "#         data[\"target\"] = y # вот это грязно, как лучше исправить? \n",
    "#         for feature in tqdm(self.features, desc=\"fitting\"):\n",
    "#             groupby_feature = data.groupby([feature])\n",
    "#             current_mean = groupby_feature.target.mean()\n",
    "#             current_size = groupby_feature.size()\n",
    "#             feat_df = ((current_mean * current_size + self.global_mean * self.C)/ \\\n",
    "#                                 (current_size + self.C)).fillna(self.global_mean)\n",
    "#             self.values[feature] = pd.DataFrame(feat_df, columns=[\"stas_%s\" % feature], dtype=np.float64)\n",
    "#         data.drop([\"target\"], axis=1, inplace=True) # вот это грязно, как лучше исправить? \n",
    "#         return self.values\n",
    "            \n",
    "#     def transform(self, data):\n",
    "#         features = [i for i in self.values if i in data.columns]\n",
    "#         for feature in tqdm(features, desc=\"merging\"):\n",
    "#             data = pd.merge(data, self.values[feature], how=\"left\", left_on=feature, right_index=True)\n",
    "#         return data.fillna(self.global_mean)\n",
    "          \n",
    "#     def fit_transform(self, data, y, features='all'):\n",
    "#         self.fit(data, y, features)              \n",
    "#         return self.transform(data)"
   ]
  },
  {
   "cell_type": "code",
   "execution_count": 64,
   "metadata": {
    "_uuid": "944381027d1851cda98f405fc9f9ceca684947ea"
   },
   "outputs": [],
   "source": [
    "# encoder = SemenovEncoding()\n",
    "# cv = KFold(n_splits = 3, random_state = 42, shuffle = True)\n",
    "# enc_train, enc_test = get_oof(encoder, full_train[categorical_cols], full_train['AdoptionSpeed'], full_test[categorical_cols], cv)"
   ]
  },
  {
   "cell_type": "code",
   "execution_count": 65,
   "metadata": {
    "_uuid": "0b1e9a29ae4b2719c80c6af67df3d9502a8364d6"
   },
   "outputs": [],
   "source": [
    "# for name_col, value_col_train, value_col_test in zip(categorical_cols, enc_train.T, enc_test.T):\n",
    "#     full_train[name_col] = value_col_train\n",
    "#     full_test[name_col] = value_col_test"
   ]
  },
  {
   "cell_type": "markdown",
   "metadata": {
    "_uuid": "8494340957a22440435f174cd502ee36044e81bf"
   },
   "source": [
    "#### END of target encoding of categorical features"
   ]
  },
  {
   "cell_type": "code",
   "execution_count": 66,
   "metadata": {
    "_uuid": "22a9f1e0e4e33d626974bd2344fbd0190b808723"
   },
   "outputs": [],
   "source": [
    "top_train = pd.read_csv(\"../input/intermediate-data/X_train_non_null.csv\", index_col = 'PetID')\n",
    "top_test = pd.read_csv(\"../input/intermediate-data/X_test_non_null.csv\", index_col = 'PetID')"
   ]
  },
  {
   "cell_type": "code",
   "execution_count": 67,
   "metadata": {
    "_uuid": "56fd394484354f6b5d4171b9ed1c328601471f98"
   },
   "outputs": [],
   "source": [
    "columns_from_top = ['sentiment_magnitude_sum', 'sentiment_score_sum', 'metadata_annots_score_SUM', 'metadata_annots_score_MEAN',\n",
    "       'metadata_crop_importance_SUM', 'metadata_crop_importance_MEAN', 'main_breed_Type', 'main_breed_BreedName', 'second_breed_Type',\n",
    "       'second_breed_BreedName','RescuerID_COUNT',\n",
    "       'TFIDF_Description_0', 'TFIDF_Description_1', 'TFIDF_Description_2', 'TFIDF_Description_3',\n",
    "       'TFIDF_Description_4', 'TFIDF_metadata_annots_top_desc_0', 'TFIDF_metadata_annots_top_desc_1', 'TFIDF_metadata_annots_top_desc_2',\n",
    "       'TFIDF_metadata_annots_top_desc_3', 'TFIDF_metadata_annots_top_desc_4', 'TFIDF_sentiment_entities_0', 'TFIDF_sentiment_entities_1',\n",
    "       'TFIDF_sentiment_entities_2', 'TFIDF_sentiment_entities_3', 'TFIDF_sentiment_entities_4']\n",
    "full_train = pd.merge(full_train, top_train[columns_from_top], how=\"left\", left_index=True, right_index=True)\n",
    "full_test = pd.merge(full_test, top_test[columns_from_top], how=\"left\", left_index=True, right_index=True)"
   ]
  },
  {
   "cell_type": "code",
   "execution_count": 68,
   "metadata": {
    "_uuid": "1c1694abe5f8ecd85d76e8d193c18e0709f28f94"
   },
   "outputs": [
    {
     "name": "stdout",
     "output_type": "stream",
     "text": [
      "(14993, 257) (3948, 257)\n"
     ]
    },
    {
     "data": {
      "image/png": "[encoded data removed]",
      "text/plain": [
       "<Figure size 288x288 with 1 Axes>"
      ]
     },
     "metadata": {},
     "output_type": "display_data"
    }
   ],
   "source": [
    "X_train = full_train.drop(columns=['AdoptionSpeed'])\n",
    "y_train = full_train['AdoptionSpeed']\n",
    "X_test = full_test.copy()\n",
    "\n",
    "# X_train.to_csv(\"./train_X.pkl\")\n",
    "# X_test.to_csv(\"./test_X.pkl\")\n",
    "# y_train.to_csv(\"./train_y.pkl\")\n",
    "\n",
    "print(X_train.shape, X_test.shape)\n",
    "\n",
    "plt.matshow(X_train.corr())\n",
    "plt.show()"
   ]
  },
  {
   "cell_type": "markdown",
   "metadata": {
    "_uuid": "69f3fdc06928ff7f25e531f9f94641ae88c0e8f9"
   },
   "source": [
    "# PART 2. Add features from images"
   ]
  },
  {
   "cell_type": "code",
   "execution_count": 69,
   "metadata": {
    "_uuid": "53c631c31bb900d40d341789cf4a9cce15fecc13"
   },
   "outputs": [
    {
     "data": {
      "text/html": [
       "<div>\n",
       "<style scoped>\n",
       "    .dataframe tbody tr th:only-of-type {\n",
       "        vertical-align: middle;\n",
       "    }\n",
       "\n",
       "    .dataframe tbody tr th {\n",
       "        vertical-align: top;\n",
       "    }\n",
       "\n",
       "    .dataframe thead th {\n",
       "        text-align: right;\n",
       "    }\n",
       "</style>\n",
       "<table border=\"1\" class=\"dataframe\">\n",
       "  <thead>\n",
       "    <tr style=\"text-align: right;\">\n",
       "      <th></th>\n",
       "      <th>Type</th>\n",
       "      <th>Age</th>\n",
       "      <th>Breed1</th>\n",
       "      <th>Breed2</th>\n",
       "      <th>Gender</th>\n",
       "      <th>Color1</th>\n",
       "      <th>Color2</th>\n",
       "      <th>Color3</th>\n",
       "      <th>MaturitySize</th>\n",
       "      <th>FurLength</th>\n",
       "      <th>Vaccinated</th>\n",
       "      <th>Dewormed</th>\n",
       "      <th>Sterilized</th>\n",
       "      <th>Health</th>\n",
       "      <th>Quantity</th>\n",
       "      <th>Fee</th>\n",
       "      <th>State</th>\n",
       "      <th>RescuerID</th>\n",
       "      <th>VideoAmt</th>\n",
       "      <th>PhotoAmt</th>\n",
       "      <th>document_magnitude</th>\n",
       "      <th>document_score</th>\n",
       "      <th>sentences_magnitude_count</th>\n",
       "      <th>sentences_magnitude_mean</th>\n",
       "      <th>sentences_magnitude_std</th>\n",
       "      <th>sentences_magnitude_min</th>\n",
       "      <th>sentences_magnitude_25%</th>\n",
       "      <th>sentences_magnitude_50%</th>\n",
       "      <th>sentences_magnitude_75%</th>\n",
       "      <th>sentences_magnitude_max</th>\n",
       "      <th>sentences_score_count</th>\n",
       "      <th>sentences_score_mean</th>\n",
       "      <th>sentences_score_std</th>\n",
       "      <th>sentences_score_min</th>\n",
       "      <th>sentences_score_25%</th>\n",
       "      <th>sentences_score_50%</th>\n",
       "      <th>sentences_score_75%</th>\n",
       "      <th>sentences_score_max</th>\n",
       "      <th>ORGANIZATION</th>\n",
       "      <th>OTHER</th>\n",
       "      <th>...</th>\n",
       "      <th>472</th>\n",
       "      <th>473</th>\n",
       "      <th>474</th>\n",
       "      <th>475</th>\n",
       "      <th>476</th>\n",
       "      <th>477</th>\n",
       "      <th>478</th>\n",
       "      <th>479</th>\n",
       "      <th>480</th>\n",
       "      <th>481</th>\n",
       "      <th>482</th>\n",
       "      <th>483</th>\n",
       "      <th>484</th>\n",
       "      <th>485</th>\n",
       "      <th>486</th>\n",
       "      <th>487</th>\n",
       "      <th>488</th>\n",
       "      <th>489</th>\n",
       "      <th>490</th>\n",
       "      <th>491</th>\n",
       "      <th>492</th>\n",
       "      <th>493</th>\n",
       "      <th>494</th>\n",
       "      <th>495</th>\n",
       "      <th>496</th>\n",
       "      <th>497</th>\n",
       "      <th>498</th>\n",
       "      <th>499</th>\n",
       "      <th>500</th>\n",
       "      <th>501</th>\n",
       "      <th>502</th>\n",
       "      <th>503</th>\n",
       "      <th>504</th>\n",
       "      <th>505</th>\n",
       "      <th>506</th>\n",
       "      <th>507</th>\n",
       "      <th>508</th>\n",
       "      <th>509</th>\n",
       "      <th>510</th>\n",
       "      <th>511</th>\n",
       "    </tr>\n",
       "  </thead>\n",
       "  <tbody>\n",
       "    <tr>\n",
       "      <th>86e1089a3</th>\n",
       "      <td>2</td>\n",
       "      <td>3</td>\n",
       "      <td>299</td>\n",
       "      <td>0</td>\n",
       "      <td>1</td>\n",
       "      <td>1</td>\n",
       "      <td>7</td>\n",
       "      <td>0</td>\n",
       "      <td>1</td>\n",
       "      <td>1</td>\n",
       "      <td>2</td>\n",
       "      <td>2</td>\n",
       "      <td>2</td>\n",
       "      <td>1</td>\n",
       "      <td>1</td>\n",
       "      <td>100</td>\n",
       "      <td>41326</td>\n",
       "      <td>2932</td>\n",
       "      <td>0</td>\n",
       "      <td>1.0</td>\n",
       "      <td>2.4</td>\n",
       "      <td>0.3</td>\n",
       "      <td>6.0</td>\n",
       "      <td>0.366667</td>\n",
       "      <td>0.350238</td>\n",
       "      <td>0.0</td>\n",
       "      <td>0.125</td>\n",
       "      <td>0.25</td>\n",
       "      <td>0.675</td>\n",
       "      <td>0.8</td>\n",
       "      <td>6.0</td>\n",
       "      <td>0.30</td>\n",
       "      <td>0.419524</td>\n",
       "      <td>-0.2</td>\n",
       "      <td>0.025</td>\n",
       "      <td>0.20</td>\n",
       "      <td>0.675</td>\n",
       "      <td>0.8</td>\n",
       "      <td>1.0</td>\n",
       "      <td>8.0</td>\n",
       "      <td>...</td>\n",
       "      <td>0.139400</td>\n",
       "      <td>0.301738</td>\n",
       "      <td>0.669857</td>\n",
       "      <td>0.342531</td>\n",
       "      <td>0.234026</td>\n",
       "      <td>0.231610</td>\n",
       "      <td>0.837159</td>\n",
       "      <td>0.808509</td>\n",
       "      <td>0.166831</td>\n",
       "      <td>0.302242</td>\n",
       "      <td>0.524660</td>\n",
       "      <td>0.620502</td>\n",
       "      <td>0.380866</td>\n",
       "      <td>0.220654</td>\n",
       "      <td>0.697768</td>\n",
       "      <td>0.303097</td>\n",
       "      <td>0.322347</td>\n",
       "      <td>0.231219</td>\n",
       "      <td>1.005948</td>\n",
       "      <td>0.664983</td>\n",
       "      <td>0.673526</td>\n",
       "      <td>0.500041</td>\n",
       "      <td>0.274847</td>\n",
       "      <td>0.461143</td>\n",
       "      <td>1.026638</td>\n",
       "      <td>0.727895</td>\n",
       "      <td>0.257359</td>\n",
       "      <td>0.968704</td>\n",
       "      <td>0.343794</td>\n",
       "      <td>0.199879</td>\n",
       "      <td>0.260376</td>\n",
       "      <td>0.998662</td>\n",
       "      <td>0.269467</td>\n",
       "      <td>0.565174</td>\n",
       "      <td>0.568633</td>\n",
       "      <td>0.766147</td>\n",
       "      <td>0.358999</td>\n",
       "      <td>0.529338</td>\n",
       "      <td>0.517751</td>\n",
       "      <td>0.086800</td>\n",
       "    </tr>\n",
       "    <tr>\n",
       "      <th>6296e909a</th>\n",
       "      <td>2</td>\n",
       "      <td>1</td>\n",
       "      <td>265</td>\n",
       "      <td>0</td>\n",
       "      <td>1</td>\n",
       "      <td>1</td>\n",
       "      <td>2</td>\n",
       "      <td>0</td>\n",
       "      <td>2</td>\n",
       "      <td>2</td>\n",
       "      <td>3</td>\n",
       "      <td>3</td>\n",
       "      <td>3</td>\n",
       "      <td>1</td>\n",
       "      <td>1</td>\n",
       "      <td>0</td>\n",
       "      <td>41401</td>\n",
       "      <td>1113</td>\n",
       "      <td>0</td>\n",
       "      <td>2.0</td>\n",
       "      <td>0.7</td>\n",
       "      <td>-0.2</td>\n",
       "      <td>2.0</td>\n",
       "      <td>0.350000</td>\n",
       "      <td>0.353553</td>\n",
       "      <td>0.1</td>\n",
       "      <td>0.225</td>\n",
       "      <td>0.35</td>\n",
       "      <td>0.475</td>\n",
       "      <td>0.6</td>\n",
       "      <td>2.0</td>\n",
       "      <td>-0.25</td>\n",
       "      <td>0.494975</td>\n",
       "      <td>-0.6</td>\n",
       "      <td>-0.425</td>\n",
       "      <td>-0.25</td>\n",
       "      <td>-0.075</td>\n",
       "      <td>0.1</td>\n",
       "      <td>0.0</td>\n",
       "      <td>1.0</td>\n",
       "      <td>...</td>\n",
       "      <td>0.439434</td>\n",
       "      <td>0.352646</td>\n",
       "      <td>0.846303</td>\n",
       "      <td>0.273696</td>\n",
       "      <td>0.183243</td>\n",
       "      <td>0.258251</td>\n",
       "      <td>0.674954</td>\n",
       "      <td>0.574795</td>\n",
       "      <td>0.548711</td>\n",
       "      <td>0.339606</td>\n",
       "      <td>1.189308</td>\n",
       "      <td>0.483307</td>\n",
       "      <td>0.537349</td>\n",
       "      <td>0.290466</td>\n",
       "      <td>0.321986</td>\n",
       "      <td>0.963685</td>\n",
       "      <td>0.418317</td>\n",
       "      <td>0.080001</td>\n",
       "      <td>0.600338</td>\n",
       "      <td>0.554814</td>\n",
       "      <td>0.716642</td>\n",
       "      <td>0.538577</td>\n",
       "      <td>0.160876</td>\n",
       "      <td>1.125162</td>\n",
       "      <td>0.844871</td>\n",
       "      <td>0.655485</td>\n",
       "      <td>0.248431</td>\n",
       "      <td>1.172226</td>\n",
       "      <td>0.304852</td>\n",
       "      <td>0.414468</td>\n",
       "      <td>0.627839</td>\n",
       "      <td>0.877818</td>\n",
       "      <td>0.608828</td>\n",
       "      <td>0.619814</td>\n",
       "      <td>0.398594</td>\n",
       "      <td>0.387345</td>\n",
       "      <td>0.105290</td>\n",
       "      <td>0.806921</td>\n",
       "      <td>1.060048</td>\n",
       "      <td>0.490804</td>\n",
       "    </tr>\n",
       "  </tbody>\n",
       "</table>\n",
       "</div>"
      ],
      "text/plain": [
       "           Type  Age  Breed1    ...          509       510       511\n",
       "86e1089a3     2    3     299    ...     0.529338  0.517751  0.086800\n",
       "6296e909a     2    1     265    ...     0.806921  1.060048  0.490804\n",
       "\n",
       "[2 rows x 769 columns]"
      ]
     },
     "execution_count": 69,
     "metadata": {},
     "output_type": "execute_result"
    }
   ],
   "source": [
    "path_to_features_train = '../input/features-from-images/'\n",
    "X_features_train = np.load(path_to_features_train + 'X_features_resnet101.npy')\n",
    "X_img_names_train = np.load(path_to_features_train + 'X_img_names.npy')\n",
    "X_img_names_train = [name.replace('../input/petfinder-adoption-prediction/train_images/','').replace('-1.jpg', '')\n",
    "                    for name in X_img_names_train]\n",
    "\n",
    "path_to_features_test = '../input/test-features-from-images/'\n",
    "X_features_test = np.load(path_to_features_test + 'X_features_resnet101test.npy')\n",
    "X_img_names_test = np.load(path_to_features_test + 'X_img_names_resnet101test.npy')\n",
    "X_img_names_test = [name.replace('../input/petfinder-adoption-prediction/test_images/','').replace('-1.jpg', '')\n",
    "                    for name in X_img_names_test]\n",
    "\n",
    "df_img_features_train = pd.DataFrame(data=X_features_train, index=X_img_names_train)\n",
    "df_img_features_test = pd.DataFrame(data=X_features_test, index=X_img_names_test)\n",
    "\n",
    "df_img_features_train.head(2)\n",
    "\n",
    "\n",
    "\n",
    "#### merge t#### merge the image features with the main datasethe image features with the main dataset\n",
    "filler_img_feature_for_nan = df_img_features_train.append(df_img_features_test).mean()\n",
    "\n",
    "X_train = pd.merge(X_train, df_img_features_train, left_index = True, right_index = True, how='left')\n",
    "X_test  = pd.merge(X_test,  df_img_features_test,  left_index = True, right_index = True, how='left')\n",
    "\n",
    "for feature_col in range(X_features_test.shape[1]):\n",
    "    X_train[feature_col].fillna(filler_img_feature_for_nan[feature_col], inplace=True)\n",
    "    X_test[feature_col].fillna(filler_img_feature_for_nan[feature_col], inplace=True)\n",
    "    \n",
    "X_train.head(2)"
   ]
  },
  {
   "cell_type": "code",
   "execution_count": 70,
   "metadata": {
    "_uuid": "a8b8c0e2a5bb96b3aaf9e15d9442ceb2767c5c5e"
   },
   "outputs": [],
   "source": []
  },
  {
   "cell_type": "markdown",
   "metadata": {
    "_uuid": "a87c86df9fd01e6c1b744a7d21b40d816ca66106"
   },
   "source": [
    "# Part 3. Model training:"
   ]
  },
  {
   "cell_type": "markdown",
   "metadata": {
    "_uuid": "b09f55e3fecbf6d4a929902de45121de2bde82cc"
   },
   "source": [
    "In competition we need to use quadratic weighted kappa. For this we took a Python code from https://github.com/benhamner/Metrics/blob/master/Python/ml_metrics/quadratic_weighted_kappa.py"
   ]
  },
  {
   "cell_type": "code",
   "execution_count": 70,
   "metadata": {
    "_uuid": "327d7e6f94f6463d1e044694bf91f8ff79ca2661"
   },
   "outputs": [],
   "source": [
    "def confusion_matrix(rater_a, rater_b, min_rating=None, max_rating=None):\n",
    "    \"\"\"\n",
    "    Returns the confusion matrix between rater's ratings\n",
    "    \"\"\"\n",
    "    assert(len(rater_a) == len(rater_b))\n",
    "    if min_rating is None:\n",
    "        min_rating = min(rater_a + rater_b)\n",
    "    if max_rating is None:\n",
    "        max_rating = max(rater_a + rater_b)\n",
    "    num_ratings = int(max_rating - min_rating + 1)\n",
    "    conf_mat = [[0 for i in range(num_ratings)]\n",
    "                for j in range(num_ratings)]\n",
    "    for a, b in zip(rater_a, rater_b):\n",
    "        conf_mat[a - min_rating][b - min_rating] += 1\n",
    "    return conf_mat\n",
    "\n",
    "\n",
    "def histogram(ratings, min_rating=None, max_rating=None):\n",
    "    \"\"\"\n",
    "    Returns the counts of each type of rating that a rater made\n",
    "    \"\"\"\n",
    "    if min_rating is None:\n",
    "        min_rating = min(ratings)\n",
    "    if max_rating is None:\n",
    "        max_rating = max(ratings)\n",
    "    num_ratings = int(max_rating - min_rating + 1)\n",
    "    hist_ratings = [0 for x in range(num_ratings)]\n",
    "    for r in ratings:\n",
    "        hist_ratings[r - min_rating] += 1\n",
    "    return hist_ratings\n",
    "\n",
    "\n",
    "def quadratic_weighted_kappa(rater_a, rater_b, min_rating=None, max_rating=None):\n",
    "    \"\"\"\n",
    "    Calculates the quadratic weighted kappa\n",
    "    quadratic_weighted_kappa calculates the quadratic weighted kappa\n",
    "    value, which is a measure of inter-rater agreement between two raters\n",
    "    that provide discrete numeric ratings.  Potential values range from -1\n",
    "    (representing complete disagreement) to 1 (representing complete\n",
    "    agreement).  A kappa value of 0 is expected if all agreement is due to\n",
    "    chance.\n",
    "    quadratic_weighted_kappa(rater_a, rater_b), where rater_a and rater_b\n",
    "    each correspond to a list of integer ratings.  These lists must have the\n",
    "    same length.\n",
    "    The ratings should be integers, and it is assumed that they contain\n",
    "    the complete range of possible ratings.\n",
    "    quadratic_weighted_kappa(X, min_rating, max_rating), where min_rating\n",
    "    is the minimum possible rating, and max_rating is the maximum possible\n",
    "    rating\n",
    "    \"\"\"\n",
    "    rater_a = np.array(rater_a, dtype=int)\n",
    "    rater_b = np.array(rater_b, dtype=int)\n",
    "    assert(len(rater_a) == len(rater_b))\n",
    "    if min_rating is None:\n",
    "        min_rating = min(min(rater_a), min(rater_b))\n",
    "    if max_rating is None:\n",
    "        max_rating = max(max(rater_a), max(rater_b))\n",
    "    conf_mat = confusion_matrix(rater_a, rater_b,\n",
    "                                min_rating, max_rating)\n",
    "    num_ratings = len(conf_mat)\n",
    "    num_scored_items = float(len(rater_a))\n",
    "\n",
    "    hist_rater_a = histogram(rater_a, min_rating, max_rating)\n",
    "    hist_rater_b = histogram(rater_b, min_rating, max_rating)\n",
    "\n",
    "    numerator = 0.0\n",
    "    denominator = 0.0\n",
    "\n",
    "    for i in range(num_ratings):\n",
    "        for j in range(num_ratings):\n",
    "            expected_count = (hist_rater_a[i] * hist_rater_b[j]\n",
    "                              / num_scored_items)\n",
    "            d = pow(i - j, 2.0) / pow(num_ratings - 1, 2.0)\n",
    "            numerator += d * conf_mat[i][j] / num_scored_items\n",
    "            denominator += d * expected_count / num_scored_items\n",
    "\n",
    "    return 1.0 - numerator / denominator"
   ]
  },
  {
   "cell_type": "code",
   "execution_count": 71,
   "metadata": {
    "_uuid": "25e48717059be553a163ce8a7289c538440066fd"
   },
   "outputs": [],
   "source": [
    "import scipy as sp\n",
    "\n",
    "from collections import Counter\n",
    "from functools import partial\n",
    "from math import sqrt\n",
    "\n",
    "class OptimizedRounder(object):\n",
    "    def __init__(self):\n",
    "        self.coef_ = 0\n",
    "    \n",
    "    def _kappa_loss(self, coef, X, y):\n",
    "        preds = pd.cut(X, [-np.inf] + list(np.sort(coef)) + [np.inf], labels = [0, 1, 2, 3, 4])\n",
    "        return -cohen_kappa_score(y, preds, weights = 'quadratic')\n",
    "    \n",
    "    def fit(self, X, y):\n",
    "        loss_partial = partial(self._kappa_loss, X = X, y = y)\n",
    "        initial_coef = [0.5, 1.5, 2.5, 3.5]\n",
    "        self.coef_ = sp.optimize.minimize(loss_partial, initial_coef, method = 'nelder-mead')\n",
    "    \n",
    "    def predict(self, X, coef):\n",
    "        preds = pd.cut(X, [-np.inf] + list(np.sort(coef)) + [np.inf], labels = [0, 1, 2, 3, 4])\n",
    "        return preds\n",
    "    \n",
    "    def coefficients(self):\n",
    "        return self.coef_['x']"
   ]
  },
  {
   "cell_type": "markdown",
   "metadata": {
    "_uuid": "9b6575e27d20c09f5448b0cc2ac674958a8d2678"
   },
   "source": [
    "### CV SCORE WITH NON_TUNED LGBM"
   ]
  },
  {
   "cell_type": "code",
   "execution_count": 72,
   "metadata": {
    "_uuid": "d760156e32146dee6525b9d7a1d7a76bb207b9a0",
    "scrolled": true
   },
   "outputs": [],
   "source": [
    "# kappa_scorer = make_scorer(quadratic_weighted_kappa)\n",
    "# kf = model_selection.KFold(n_splits = 5, random_state = 42, shuffle = True)\n",
    "# model = lgb.LGBMRegressor(n_jobs=-1, random_state=42, n_estimators=10, reg_alpha=1.3, reg_lambda=1.3)\n",
    "# scores = model_selection.cross_val_score(model, X_train, y_train, cv=kf, n_jobs=-1, scoring = kappa_scorer, verbose=100)\n",
    "# scores"
   ]
  },
  {
   "cell_type": "code",
   "execution_count": 73,
   "metadata": {
    "_uuid": "daea4569b6a2f6f05147c7ca6576ee682e12e2cf"
   },
   "outputs": [],
   "source": [
    "def neg_quadratic_weighted_kappa(pred, true):\n",
    "    return -quadratic_weighted_kappa(pred, true)\n",
    "\n",
    "qwk_scorer = make_scorer(neg_quadratic_weighted_kappa, greater_is_better=False)"
   ]
  },
  {
   "cell_type": "code",
   "execution_count": 74,
   "metadata": {
    "_uuid": "98e3904669937e72ddb191931fc0dd4aaa9d696d"
   },
   "outputs": [
    {
     "name": "stdout",
     "output_type": "stream",
     "text": [
      "QWK 0.29206 params {'num_leaves': 40, 'n_estimators': 2056, 'min_child_samples': 88, 'learning_rate': '0.01996', 'min_gain_to_split': '0.29680'}\n",
      "QWK 0.28105 params {'num_leaves': 66, 'n_estimators': 982, 'min_child_samples': 108, 'learning_rate': '0.13411', 'min_gain_to_split': '0.03566'}\n",
      "QWK 0.28801 params {'num_leaves': 66, 'n_estimators': 1398, 'min_child_samples': 148, 'learning_rate': '0.09499', 'min_gain_to_split': '0.14026'}\n",
      "QWK 0.28918 params {'num_leaves': 66, 'n_estimators': 2448, 'min_child_samples': 174, 'learning_rate': '0.05658', 'min_gain_to_split': '0.20807'}\n",
      "QWK 0.27559 params {'num_leaves': 94, 'n_estimators': 1070, 'min_child_samples': 38, 'learning_rate': '0.13404', 'min_gain_to_split': '0.39390'}\n",
      "QWK 0.28165 params {'num_leaves': 68, 'n_estimators': 934, 'min_child_samples': 78, 'learning_rate': '0.11129', 'min_gain_to_split': '0.39485'}\n",
      "QWK 0.29196 params {'num_leaves': 16, 'n_estimators': 2390, 'min_child_samples': 96, 'learning_rate': '0.05997', 'min_gain_to_split': '0.10580'}\n",
      "QWK 0.27410 params {'num_leaves': 118, 'n_estimators': 1406, 'min_child_samples': 72, 'learning_rate': '0.16736', 'min_gain_to_split': '0.27024'}\n",
      "QWK 0.28828 params {'num_leaves': 82, 'n_estimators': 2242, 'min_child_samples': 166, 'learning_rate': '0.10726', 'min_gain_to_split': '0.20274'}\n",
      "QWK 0.27732 params {'num_leaves': 96, 'n_estimators': 2430, 'min_child_samples': 142, 'learning_rate': '0.13706', 'min_gain_to_split': '0.18079'}\n",
      "100%|██████████| 10/10 [19:45<00:00, 104.41s/it, best loss: 0.27409897387651233]\n",
      "Otimal paramaters: {'learning_rate': 0.16736308082988877, 'min_child_samples': 72.0, 'min_gain_to_split': 0.270240324215537, 'n_estimators': 1406.0, 'num_leaves': 118.0}\n"
     ]
    }
   ],
   "source": [
    "def objective(params):\n",
    "    params = {\n",
    "        'num_leaves': int(params['num_leaves']),\n",
    "        'n_estimators': int(params['n_estimators']),\n",
    "        'min_child_samples': int(params['min_child_samples']),\n",
    "        'learning_rate': '{:.5f}'.format(params['learning_rate']),\n",
    "        #'feature_fraction': '{:.5f}'.format(params['feature_fraction']),\n",
    "        #'bagging_fraction': '{:.5f}'.format(params['bagging_fraction']),\n",
    "        'min_gain_to_split': '{:.5f}'.format(params['min_gain_to_split']),\n",
    "    }\n",
    "    \n",
    "    clf = lgb.LGBMRegressor(\n",
    "        n_jobs=-1, random_state=42,\n",
    "        **params\n",
    "    )\n",
    "    \n",
    "    score = model_selection.cross_val_score(clf, X_train, y_train, scoring=qwk_scorer, cv=StratifiedKFold(n_splits=3)).mean()\n",
    "    print(\"QWK {:.5f} params {}\".format(score, params))\n",
    "    return score\n",
    "\n",
    "space = {\n",
    "    'num_leaves': hp.quniform('num_leaves', 8, 128, 2),\n",
    "    'n_estimators': hp.quniform('n_estimators', 500, 2500, 2),\n",
    "    'min_child_samples': hp.quniform('min_child_samples', 30, 200, 2),\n",
    "    'learning_rate': hp.uniform('learning_rate', 0.01, 0.2),\n",
    "    #'feature_fraction': hp.uniform('feature_fraction', 0.5, 0.9),\n",
    "    #'bagging_fraction': hp.uniform('bagging_fraction', 0.6, 0.9),\n",
    "    'min_gain_to_split': hp.uniform('min_gain_to_split', 0.0, 0.5),\n",
    "}\n",
    "\n",
    "trials = Trials()\n",
    "best = fmin(fn=objective,\n",
    "            space=space,\n",
    "            algo=tpe.suggest,\n",
    "            trials=trials,\n",
    "            max_evals=10)\n",
    "pickle.dump(trials, open(\"hyperopt_params.p\", \"wb\"))\n",
    "print(\"Otimal paramaters: {}\".format(best))"
   ]
  },
  {
   "cell_type": "code",
   "execution_count": 75,
   "metadata": {
    "_uuid": "66d1c162429ea3fb74dbf130cffdb0ea4e308f3f"
   },
   "outputs": [
    {
     "name": "stdout",
     "output_type": "stream",
     "text": [
      "0it [00:00, ?it/s, best loss: ?]\n",
      "Otimal paramaters: {'learning_rate': 0.16736308082988877, 'min_child_samples': 72.0, 'min_gain_to_split': 0.270240324215537, 'n_estimators': 1406.0, 'num_leaves': 118.0}\n"
     ]
    }
   ],
   "source": [
    "trials = pickle.load(open(\"hyperopt_params.p\", \"rb\"))\n",
    "best = fmin(fn=objective,\n",
    "            space=space,\n",
    "            algo=tpe.suggest,\n",
    "            trials=trials,\n",
    "            max_evals=10)\n",
    "pickle.dump(trials, open(\"hyperopt_params.p\", \"wb\"))\n",
    "print(\"Otimal paramaters: {}\".format(best))"
   ]
  },
  {
   "cell_type": "code",
   "execution_count": 76,
   "metadata": {
    "_uuid": "da7d491d2a6c2f8156b118303fdc3ecfacfa61bd"
   },
   "outputs": [
    {
     "name": "stdout",
     "output_type": "stream",
     "text": [
      "0it [00:00, ?it/s, best loss: ?]\n",
      "Otimal paramaters: {'learning_rate': 0.16736308082988877, 'min_child_samples': 72.0, 'min_gain_to_split': 0.270240324215537, 'n_estimators': 1406.0, 'num_leaves': 118.0}\n"
     ]
    }
   ],
   "source": [
    "trials = pickle.load(open(\"hyperopt_params.p\", \"rb\"))\n",
    "best = fmin(fn=objective,\n",
    "            space=space,\n",
    "            algo=tpe.suggest,\n",
    "            trials=trials,\n",
    "            max_evals=10)\n",
    "pickle.dump(trials, open(\"hyperopt_params.p\", \"wb\"))\n",
    "print(\"Otimal paramaters: {}\".format(best))"
   ]
  },
  {
   "cell_type": "code",
   "execution_count": 77,
   "metadata": {
    "_uuid": "38ee043020b4b3f7f1ad715b6b239f0afe28b5c5"
   },
   "outputs": [
    {
     "name": "stdout",
     "output_type": "stream",
     "text": [
      "0it [00:00, ?it/s, best loss: ?]\n",
      "Otimal paramaters: {'learning_rate': 0.16736308082988877, 'min_child_samples': 72.0, 'min_gain_to_split': 0.270240324215537, 'n_estimators': 1406.0, 'num_leaves': 118.0}\n"
     ]
    }
   ],
   "source": [
    "trials = pickle.load(open(\"hyperopt_params.p\", \"rb\"))\n",
    "best = fmin(fn=objective,\n",
    "            space=space,\n",
    "            algo=tpe.suggest,\n",
    "            trials=trials,\n",
    "            max_evals=10)\n",
    "pickle.dump(trials, open(\"hyperopt_params.p\", \"wb\"))\n",
    "print(\"Otimal paramaters: {}\".format(best))"
   ]
  },
  {
   "cell_type": "code",
   "execution_count": 78,
   "metadata": {
    "_uuid": "165030eb8a558eaf074b16e88d99c0caffa5b0f5"
   },
   "outputs": [
    {
     "name": "stdout",
     "output_type": "stream",
     "text": [
      "0it [00:00, ?it/s, best loss: ?]\n",
      "Otimal paramaters: {'learning_rate': 0.16736308082988877, 'min_child_samples': 72.0, 'min_gain_to_split': 0.270240324215537, 'n_estimators': 1406.0, 'num_leaves': 118.0}\n"
     ]
    }
   ],
   "source": [
    "trials = pickle.load(open(\"hyperopt_params.p\", \"rb\"))\n",
    "best = fmin(fn=objective,\n",
    "            space=space,\n",
    "            algo=tpe.suggest,\n",
    "            trials=trials,\n",
    "            max_evals=10)\n",
    "pickle.dump(trials, open(\"hyperopt_params.p\", \"wb\"))\n",
    "print(\"Otimal paramaters: {}\".format(best))"
   ]
  },
  {
   "cell_type": "code",
   "execution_count": 79,
   "metadata": {
    "_uuid": "17ff4daa87012f1d2c552d39900f071002d69b35"
   },
   "outputs": [],
   "source": []
  },
  {
   "cell_type": "code",
   "execution_count": 79,
   "metadata": {
    "_uuid": "6d645345cb8ab39676376d10f6ce5aa0bc58d369"
   },
   "outputs": [],
   "source": [
    "### import lightgbm as lgb\n",
    "\n",
    "params = {'application': 'regression',\n",
    "          'boosting': 'gbdt',\n",
    "          'metric': 'rmse',\n",
    "          'num_leaves': 70,\n",
    "          'max_depth': 15, # 9\n",
    "          'learning_rate': 0.01,\n",
    "          'bagging_fraction': 0.85,\n",
    "          'feature_fraction': 0.8,\n",
    "          'min_split_gain': 0.02,\n",
    "          'min_child_samples': 150,\n",
    "          'min_child_weight': 0.02,\n",
    "          'lambda_l2': 0.0475,\n",
    "          'verbosity': -1,\n",
    "          'data_random_seed': 17}\n",
    "\n",
    "# Additional parameters:\n",
    "early_stop = 300\n",
    "verbose_eval = 300\n",
    "num_rounds = 10000\n",
    "n_splits = 5"
   ]
  },
  {
   "cell_type": "code",
   "execution_count": 80,
   "metadata": {
    "_uuid": "1a82928dbd3d3d278ae99db4578d3acc4b3177b7"
   },
   "outputs": [
    {
     "ename": "IndentationError",
     "evalue": "unexpected indent (<ipython-input-80-0ad9e8da8311>, line 25)",
     "output_type": "error",
     "traceback": [
      "\u001b[0;36m  File \u001b[0;32m\"<ipython-input-80-0ad9e8da8311>\"\u001b[0;36m, line \u001b[0;32m25\u001b[0m\n\u001b[0;31m    train_set=d_train,\u001b[0m\n\u001b[0m    ^\u001b[0m\n\u001b[0;31mIndentationError\u001b[0m\u001b[0;31m:\u001b[0m unexpected indent\n"
     ]
    }
   ],
   "source": [
    "kfold = KFold(n_splits=n_splits, random_state=42, shuffle=True)\n",
    "\n",
    "\n",
    "oof_train = np.zeros((X_train.shape[0]))\n",
    "oof_test = np.zeros((X_test.shape[0], n_splits))\n",
    "\n",
    "\n",
    "i = 0\n",
    "for train_index, valid_index in kfold.split(X_train, y_train):\n",
    "    \n",
    "    X_tr = X_train.iloc[train_index]\n",
    "    X_val = X_train.iloc[valid_index]\n",
    "    \n",
    "    y_tr = y_train.iloc[train_index]\n",
    "    y_val = y_train.iloc[valid_index]\n",
    "    \n",
    "    print('\\ny_tr distribution: {}'.format(Counter(y_tr)))\n",
    "    \n",
    "    d_train = lgb.Dataset(X_tr, label=y_tr)\n",
    "    d_valid = lgb.Dataset(X_val, label=y_val)\n",
    "    watchlist = [d_train, d_valid]\n",
    "    \n",
    "    print('training LGB:')\n",
    "    #model = lgb.train(params,\n",
    "                      train_set=d_train,\n",
    "                      num_boost_round=num_rounds,\n",
    "                      valid_sets=watchlist,\n",
    "                      verbose_eval=verbose_eval,\n",
    "                      early_stopping_rounds=early_stop)\n",
    "    \n",
    "    val_pred = model.predict(X_val, num_iteration=model.best_iteration)\n",
    "    test_pred = model.predict(X_test, num_iteration=model.best_iteration)\n",
    "    \n",
    "    oof_train[valid_index] = val_pred\n",
    "    oof_test[:, i] = test_pred\n",
    "    \n",
    "    i += 1"
   ]
  },
  {
   "cell_type": "code",
   "execution_count": 81,
   "metadata": {
    "_uuid": "991f1855ea613dd2a4b44b42be3df9a7fe09af54"
   },
   "outputs": [
    {
     "ename": "NameError",
     "evalue": "name 'oof_train' is not defined",
     "output_type": "error",
     "traceback": [
      "\u001b[0;31m---------------------------------------------------------------------------\u001b[0m",
      "\u001b[0;31mNameError\u001b[0m                                 Traceback (most recent call last)",
      "\u001b[0;32m<ipython-input-81-51477cbd3c8e>\u001b[0m in \u001b[0;36m<module>\u001b[0;34m()\u001b[0m\n\u001b[0;32m----> 1\u001b[0;31m \u001b[0mplt\u001b[0m\u001b[0;34m.\u001b[0m\u001b[0mhist\u001b[0m\u001b[0;34m(\u001b[0m\u001b[0moof_train\u001b[0m\u001b[0;34m)\u001b[0m\u001b[0;34m\u001b[0m\u001b[0m\n\u001b[0m",
      "\u001b[0;31mNameError\u001b[0m: name 'oof_train' is not defined"
     ]
    }
   ],
   "source": [
    "plt.hist(oof_train)"
   ]
  },
  {
   "cell_type": "code",
   "execution_count": 82,
   "metadata": {
    "_uuid": "476da82fb0a09d8ae23afb03859e05b70a87b44d"
   },
   "outputs": [
    {
     "ename": "NameError",
     "evalue": "name 'oof_train' is not defined",
     "output_type": "error",
     "traceback": [
      "\u001b[0;31m---------------------------------------------------------------------------\u001b[0m",
      "\u001b[0;31mNameError\u001b[0m                                 Traceback (most recent call last)",
      "\u001b[0;32m<ipython-input-82-c6aec767af90>\u001b[0m in \u001b[0;36m<module>\u001b[0;34m()\u001b[0m\n\u001b[1;32m      1\u001b[0m \u001b[0;31m# Compute QWK based on OOF train predictions:\u001b[0m\u001b[0;34m\u001b[0m\u001b[0;34m\u001b[0m\u001b[0m\n\u001b[1;32m      2\u001b[0m \u001b[0moptR\u001b[0m \u001b[0;34m=\u001b[0m \u001b[0mOptimizedRounder\u001b[0m\u001b[0;34m(\u001b[0m\u001b[0;34m)\u001b[0m\u001b[0;34m\u001b[0m\u001b[0m\n\u001b[0;32m----> 3\u001b[0;31m \u001b[0moptR\u001b[0m\u001b[0;34m.\u001b[0m\u001b[0mfit\u001b[0m\u001b[0;34m(\u001b[0m\u001b[0moof_train\u001b[0m\u001b[0;34m,\u001b[0m \u001b[0my_train\u001b[0m\u001b[0;34m)\u001b[0m\u001b[0;34m\u001b[0m\u001b[0m\n\u001b[0m\u001b[1;32m      4\u001b[0m \u001b[0mcoefficients\u001b[0m \u001b[0;34m=\u001b[0m \u001b[0moptR\u001b[0m\u001b[0;34m.\u001b[0m\u001b[0mcoefficients\u001b[0m\u001b[0;34m(\u001b[0m\u001b[0;34m)\u001b[0m\u001b[0;34m\u001b[0m\u001b[0m\n\u001b[1;32m      5\u001b[0m \u001b[0mpred_test_y_k\u001b[0m \u001b[0;34m=\u001b[0m \u001b[0moptR\u001b[0m\u001b[0;34m.\u001b[0m\u001b[0mpredict\u001b[0m\u001b[0;34m(\u001b[0m\u001b[0moof_train\u001b[0m\u001b[0;34m,\u001b[0m \u001b[0mcoefficients\u001b[0m\u001b[0;34m)\u001b[0m\u001b[0;34m\u001b[0m\u001b[0m\n",
      "\u001b[0;31mNameError\u001b[0m: name 'oof_train' is not defined"
     ]
    }
   ],
   "source": [
    "# Compute QWK based on OOF train predictions:\n",
    "optR = OptimizedRounder()\n",
    "optR.fit(oof_train, y_train)\n",
    "coefficients = optR.coefficients()\n",
    "pred_test_y_k = optR.predict(oof_train, coefficients)\n",
    "print(\"\\nValid Counts = \", Counter(y_train.values))\n",
    "print(\"Predicted Counts = \", Counter(pred_test_y_k))\n",
    "print(\"Coefficients = \", coefficients)\n",
    "qwk = quadratic_weighted_kappa(y_train.values, pred_test_y_k)\n",
    "print(\"QWK = \", qwk)"
   ]
  },
  {
   "cell_type": "code",
   "execution_count": 83,
   "metadata": {
    "_uuid": "d2ccebb74d117385e00ab3d0a0df008f2c430b82"
   },
   "outputs": [
    {
     "ename": "NameError",
     "evalue": "name 'coefficients' is not defined",
     "output_type": "error",
     "traceback": [
      "\u001b[0;31m---------------------------------------------------------------------------\u001b[0m",
      "\u001b[0;31mNameError\u001b[0m                                 Traceback (most recent call last)",
      "\u001b[0;32m<ipython-input-83-2e9d8a32b118>\u001b[0m in \u001b[0;36m<module>\u001b[0;34m()\u001b[0m\n\u001b[1;32m      1\u001b[0m \u001b[0;31m# Manually adjusted coefficients:\u001b[0m\u001b[0;34m\u001b[0m\u001b[0;34m\u001b[0m\u001b[0m\n\u001b[1;32m      2\u001b[0m \u001b[0;34m\u001b[0m\u001b[0m\n\u001b[0;32m----> 3\u001b[0;31m \u001b[0mcoefficients_\u001b[0m \u001b[0;34m=\u001b[0m \u001b[0mcoefficients\u001b[0m\u001b[0;34m.\u001b[0m\u001b[0mcopy\u001b[0m\u001b[0;34m(\u001b[0m\u001b[0;34m)\u001b[0m\u001b[0;34m\u001b[0m\u001b[0m\n\u001b[0m\u001b[1;32m      4\u001b[0m \u001b[0;34m\u001b[0m\u001b[0m\n\u001b[1;32m      5\u001b[0m \u001b[0mcoefficients_\u001b[0m\u001b[0;34m[\u001b[0m\u001b[0;36m0\u001b[0m\u001b[0;34m]\u001b[0m \u001b[0;34m=\u001b[0m \u001b[0;36m1.645\u001b[0m\u001b[0;34m\u001b[0m\u001b[0m\n",
      "\u001b[0;31mNameError\u001b[0m: name 'coefficients' is not defined"
     ]
    }
   ],
   "source": [
    "# Manually adjusted coefficients:\n",
    "\n",
    "coefficients_ = coefficients.copy()\n",
    "\n",
    "coefficients_[0] = 1.645\n",
    "coefficients_[1] = 2.115\n",
    "coefficients_[3] = 2.84\n",
    "\n",
    "train_predictions = optR.predict(oof_train, coefficients_).astype(int)\n",
    "print('train pred distribution: {}'.format(Counter(train_predictions)))\n",
    "\n",
    "test_predictions = optR.predict(oof_test.mean(axis=1), coefficients_)\n",
    "print('test pred distribution: {}'.format(Counter(test_predictions)))"
   ]
  },
  {
   "cell_type": "code",
   "execution_count": 84,
   "metadata": {
    "_uuid": "03ded9b8f81d756c3dc128d0d9a517d36a30c073",
    "scrolled": true
   },
   "outputs": [
    {
     "name": "stdout",
     "output_type": "stream",
     "text": [
      "True Distribution:\n",
      "0    0.027346\n",
      "1    0.206096\n",
      "2    0.269259\n",
      "3    0.217368\n",
      "4    0.279931\n",
      "Name: AdoptionSpeed, dtype: float64\n",
      "\n",
      "Train Predicted Distribution:\n"
     ]
    },
    {
     "ename": "NameError",
     "evalue": "name 'train_predictions' is not defined",
     "output_type": "error",
     "traceback": [
      "\u001b[0;31m---------------------------------------------------------------------------\u001b[0m",
      "\u001b[0;31mNameError\u001b[0m                                 Traceback (most recent call last)",
      "\u001b[0;32m<ipython-input-84-bcc73a86485f>\u001b[0m in \u001b[0;36m<module>\u001b[0;34m()\u001b[0m\n\u001b[1;32m      4\u001b[0m \u001b[0mprint\u001b[0m\u001b[0;34m(\u001b[0m\u001b[0mpd\u001b[0m\u001b[0;34m.\u001b[0m\u001b[0mvalue_counts\u001b[0m\u001b[0;34m(\u001b[0m\u001b[0my_train\u001b[0m\u001b[0;34m,\u001b[0m \u001b[0mnormalize\u001b[0m\u001b[0;34m=\u001b[0m\u001b[0;32mTrue\u001b[0m\u001b[0;34m)\u001b[0m\u001b[0;34m.\u001b[0m\u001b[0msort_index\u001b[0m\u001b[0;34m(\u001b[0m\u001b[0;34m)\u001b[0m\u001b[0;34m)\u001b[0m\u001b[0;34m\u001b[0m\u001b[0m\n\u001b[1;32m      5\u001b[0m \u001b[0mprint\u001b[0m\u001b[0;34m(\u001b[0m\u001b[0;34m\"\\nTrain Predicted Distribution:\"\u001b[0m\u001b[0;34m)\u001b[0m\u001b[0;34m\u001b[0m\u001b[0m\n\u001b[0;32m----> 6\u001b[0;31m \u001b[0mprint\u001b[0m\u001b[0;34m(\u001b[0m\u001b[0mpd\u001b[0m\u001b[0;34m.\u001b[0m\u001b[0mvalue_counts\u001b[0m\u001b[0;34m(\u001b[0m\u001b[0mtrain_predictions\u001b[0m\u001b[0;34m,\u001b[0m \u001b[0mnormalize\u001b[0m\u001b[0;34m=\u001b[0m\u001b[0;32mTrue\u001b[0m\u001b[0;34m)\u001b[0m\u001b[0;34m.\u001b[0m\u001b[0msort_index\u001b[0m\u001b[0;34m(\u001b[0m\u001b[0;34m)\u001b[0m\u001b[0;34m)\u001b[0m\u001b[0;34m\u001b[0m\u001b[0m\n\u001b[0m\u001b[1;32m      7\u001b[0m \u001b[0mprint\u001b[0m\u001b[0;34m(\u001b[0m\u001b[0;34m\"\\nTest Predicted Distribution:\"\u001b[0m\u001b[0;34m)\u001b[0m\u001b[0;34m\u001b[0m\u001b[0m\n\u001b[1;32m      8\u001b[0m \u001b[0mprint\u001b[0m\u001b[0;34m(\u001b[0m\u001b[0mpd\u001b[0m\u001b[0;34m.\u001b[0m\u001b[0mvalue_counts\u001b[0m\u001b[0;34m(\u001b[0m\u001b[0mtest_predictions\u001b[0m\u001b[0;34m,\u001b[0m \u001b[0mnormalize\u001b[0m\u001b[0;34m=\u001b[0m\u001b[0;32mTrue\u001b[0m\u001b[0;34m)\u001b[0m\u001b[0;34m.\u001b[0m\u001b[0msort_index\u001b[0m\u001b[0;34m(\u001b[0m\u001b[0;34m)\u001b[0m\u001b[0;34m)\u001b[0m\u001b[0;34m\u001b[0m\u001b[0m\n",
      "\u001b[0;31mNameError\u001b[0m: name 'train_predictions' is not defined"
     ]
    }
   ],
   "source": [
    "# Distribution inspection of original target and predicted train and test:\n",
    "\n",
    "print(\"True Distribution:\")\n",
    "print(pd.value_counts(y_train, normalize=True).sort_index())\n",
    "print(\"\\nTrain Predicted Distribution:\")\n",
    "print(pd.value_counts(train_predictions, normalize=True).sort_index())\n",
    "print(\"\\nTest Predicted Distribution:\")\n",
    "print(pd.value_counts(test_predictions, normalize=True).sort_index())"
   ]
  },
  {
   "cell_type": "code",
   "execution_count": 85,
   "metadata": {
    "_uuid": "49f62f5776c7f47f561541a928231d750d09d3ce"
   },
   "outputs": [
    {
     "ename": "NameError",
     "evalue": "name 'test_predictions' is not defined",
     "output_type": "error",
     "traceback": [
      "\u001b[0;31m---------------------------------------------------------------------------\u001b[0m",
      "\u001b[0;31mNameError\u001b[0m                                 Traceback (most recent call last)",
      "\u001b[0;32m<ipython-input-85-c6765f455121>\u001b[0m in \u001b[0;36m<module>\u001b[0;34m()\u001b[0m\n\u001b[1;32m      1\u001b[0m \u001b[0;31m# Generate submission:\u001b[0m\u001b[0;34m\u001b[0m\u001b[0;34m\u001b[0m\u001b[0m\n\u001b[1;32m      2\u001b[0m \u001b[0;34m\u001b[0m\u001b[0m\n\u001b[0;32m----> 3\u001b[0;31m \u001b[0msubmission\u001b[0m \u001b[0;34m=\u001b[0m \u001b[0mpd\u001b[0m\u001b[0;34m.\u001b[0m\u001b[0mDataFrame\u001b[0m\u001b[0;34m(\u001b[0m\u001b[0;34m{\u001b[0m\u001b[0;34m'PetID'\u001b[0m\u001b[0;34m:\u001b[0m \u001b[0mX_test\u001b[0m\u001b[0;34m.\u001b[0m\u001b[0mindex\u001b[0m\u001b[0;34m,\u001b[0m \u001b[0;34m'AdoptionSpeed'\u001b[0m\u001b[0;34m:\u001b[0m \u001b[0mtest_predictions\u001b[0m\u001b[0;34m.\u001b[0m\u001b[0mastype\u001b[0m\u001b[0;34m(\u001b[0m\u001b[0mnp\u001b[0m\u001b[0;34m.\u001b[0m\u001b[0mint32\u001b[0m\u001b[0;34m)\u001b[0m\u001b[0;34m}\u001b[0m\u001b[0;34m)\u001b[0m\u001b[0;34m\u001b[0m\u001b[0m\n\u001b[0m\u001b[1;32m      4\u001b[0m \u001b[0msubmission\u001b[0m\u001b[0;34m.\u001b[0m\u001b[0mhead\u001b[0m\u001b[0;34m(\u001b[0m\u001b[0;34m)\u001b[0m\u001b[0;34m\u001b[0m\u001b[0m\n\u001b[1;32m      5\u001b[0m \u001b[0msubmission\u001b[0m\u001b[0;34m.\u001b[0m\u001b[0mto_csv\u001b[0m\u001b[0;34m(\u001b[0m\u001b[0;34m'submission.csv'\u001b[0m\u001b[0;34m,\u001b[0m \u001b[0mindex\u001b[0m\u001b[0;34m=\u001b[0m\u001b[0;32mFalse\u001b[0m\u001b[0;34m)\u001b[0m\u001b[0;34m\u001b[0m\u001b[0m\n",
      "\u001b[0;31mNameError\u001b[0m: name 'test_predictions' is not defined"
     ]
    }
   ],
   "source": [
    "# Generate submission:\n",
    "\n",
    "submission = pd.DataFrame({'PetID': X_test.index, 'AdoptionSpeed': test_predictions.astype(np.int32)})\n",
    "submission.head()\n",
    "submission.to_csv('submission.csv', index=False)"
   ]
  },
  {
   "cell_type": "code",
   "execution_count": 86,
   "metadata": {
    "_uuid": "b6e13d06c137b70720e53dd04ffe465ccbd48e9f"
   },
   "outputs": [],
   "source": []
  },
  {
   "cell_type": "code",
   "execution_count": 86,
   "metadata": {
    "_uuid": "b113a8cafd5299ede479d3546cdf17a661e8f12a"
   },
   "outputs": [],
   "source": []
  },
  {
   "cell_type": "code",
   "execution_count": 86,
   "metadata": {
    "_uuid": "adeb50e537dbcb750c654eda6ac9d87404020a62"
   },
   "outputs": [],
   "source": []
  },
  {
   "cell_type": "code",
   "execution_count": 86,
   "metadata": {
    "_uuid": "2c35df46b183fab220a104ad30ee126a73f89297"
   },
   "outputs": [],
   "source": []
  },
  {
   "cell_type": "code",
   "execution_count": 86,
   "metadata": {
    "_uuid": "b18a5c30452b88c85419988f13fe545c41a120c9"
   },
   "outputs": [],
   "source": [
    "# def soft_kappa_grad_hess(preds, dtrain):\n",
    "#     '''\n",
    "#         Returns first and second derivatives of the objective with respect to predictions `p`. \n",
    "#         `y` is a vector of corresponding target labels.  \n",
    "#     '''\n",
    "# #     y = dtrain.get_label() + 1\n",
    "#     y = dtrain + 1\n",
    "#     M = preds.shape[0]\n",
    "#     N = preds.shape[1]\n",
    "    \n",
    "#     norm = np.linalg.norm(preds)**2 + np.linalg.norm(y)**2\n",
    "    \n",
    "#     grad = (- 2 * y.reshape(-1,1) / norm * np.ones(preds.shape) + \n",
    "#             4 * preds * np.dot(y, preds) / (norm ** 2))\n",
    "#     hess = (8 * preds * y.reshape(-1,1) *  np.ones(preds.shape) / (norm ** 2) + 4 * np.dot(y, preds) / (norm ** 2)  - \n",
    "#             (16 * preds ** 2 * np.dot(y, preds)) / (norm ** 3))\n",
    "#     return grad.reshape(M*N), hess.reshape(M*N)\n",
    "\n",
    "# def soft_kappa(preds, dtrain):\n",
    "#     '''\n",
    "#         Having predictions `preds` and targets `dtrain.get_label()` this function coumputes soft kappa loss.\n",
    "#         NOTE, that it assumes `mean(target) = 0`.\n",
    "        \n",
    "#     '''\n",
    "# #     y = dtrain.get_label() + 1\n",
    "#     y = dtrain + 1\n",
    "#     norm = np.linalg.norm(preds)**2 + np.linalg.norm(y)**2\n",
    "#     preds = np.argmax(preds, axis=1) + 1\n",
    "#     return 'kappa', -2 * y.dot(preds) / norm"
   ]
  },
  {
   "cell_type": "code",
   "execution_count": 87,
   "metadata": {
    "_uuid": "2ab56de71284c19c5657c8715a8038ac2cc4b376"
   },
   "outputs": [],
   "source": [
    "# y = np.array([1,2,2,0])\n",
    "# p = np.array([[0.8, 0.3, 0.6],[0.4, 0.1, 0.8],[0., 0.5, 0.7],[0.67, 0.5, 0.5]])"
   ]
  },
  {
   "cell_type": "code",
   "execution_count": 88,
   "metadata": {
    "_uuid": "e5d0e4bf4e3af3b4bf9c5e9bea67893a63415000"
   },
   "outputs": [],
   "source": [
    "# soft_kappa_grad_hess(p,y), soft_kappa(p,y)"
   ]
  },
  {
   "cell_type": "code",
   "execution_count": 89,
   "metadata": {
    "_uuid": "ef9663645dad15b877ea54e620e5798103ebdcf4"
   },
   "outputs": [],
   "source": [
    "\n",
    "# import numpy as np\n",
    "# def softmax(score):\n",
    "#     score = np.asarray(score, dtype=float)\n",
    "#     score = np.exp(score-np.max(score))\n",
    "#     score /= np.sum(score, axis=1)[:,np.newaxis]\n",
    "#     return score\n",
    "\n",
    "# ## soft version of kappa score using the class probability\n",
    "# ## inspired by @George Mohler in the Higgs competition\n",
    "# ## https://www.kaggle.com/c/higgs-boson/forums/t/10286/customize-loss-function-in-xgboost/53459#post53459\n",
    "# ## NOTE: As also discussed in the above link, it is hard to tune the hessian to get it to work.\n",
    "# def softkappaobj(preds, dtrain):\n",
    "#     ## label are in [0,1,2,3] as required by XGBoost for multi-classification\n",
    "#     labels = dtrain.get_label() + 1\n",
    "#     labels = np.asarray(labels, dtype=int)\n",
    "#     preds = softmax(preds)\n",
    "#     M = preds.shape[0]\n",
    "#     N = preds.shape[1]\n",
    "\n",
    "#     ## compute O (enumerator)\n",
    "#     O = 0.0\n",
    "#     for j in range(N):\n",
    "#         wj = (labels - (j+1.))**2\n",
    "#         O += np.sum(wj * preds[:,j])\n",
    "    \n",
    "#     ## compute E (denominator)\n",
    "#     hist_label = np.bincount(labels)[1:]\n",
    "#     hist_pred = np.sum(preds, axis=0)\n",
    "#     E = 0.0\n",
    "#     for i in range(N):\n",
    "#         for j in range(N):\n",
    "#             E += pow(i - j, 2.0) * hist_label[i] * hist_pred[j]\n",
    "\n",
    "#     ## compute gradient and hessian\n",
    "#     grad = np.zeros((M, N))\n",
    "#     hess = np.zeros((M, N))\n",
    "#     for n in range(N):\n",
    "#         ## first-order derivative: dO / dy_mn\n",
    "#         dO = np.zeros((M))\n",
    "#         for j in range(N):\n",
    "#             indicator = float(n == j)\n",
    "#             dO += ((labels - (j+1.))**2) * preds[:,n] * (indicator - preds[:,j])\n",
    "#         ## first-order derivative: dE / dy_mn\n",
    "#         dE = np.zeros((M))\n",
    "#         for k in range(N):\n",
    "#             for l in range(N):\n",
    "#                 indicator = float(n == k)\n",
    "#                 dE += pow(k-l, 2.0) * hist_label[l] * preds[:,n] * (indicator - preds[:,k])\n",
    "#         ## the grad\n",
    "#         grad[:,n] = -M * (dO * E - O * dE) / (E**2)\n",
    "        \n",
    "#         ## second-order derivative: d^2O / d (y_mn)^2\n",
    "#         d2O = np.zeros((M))\n",
    "#         for j in range(N):\n",
    "#             indicator = float(n == j)\n",
    "#             d2O += ((labels - (j+1.))**2) * preds[:,n] * (1 - 2.*preds[:,n]) * (indicator - preds[:,j])\n",
    "       \n",
    "#         ## second-order derivative: d^2E / d (y_mn)^2\n",
    "#         d2E = np.zeros((M))\n",
    "#         for k in range(N):\n",
    "#             for l in range(N):\n",
    "#                 indicator = float(n == k)\n",
    "#                 d2E += pow(k-l, 2.0) * hist_label[l] * preds[:,n] * (1 - 2.*preds[:,n]) * (indicator - preds[:,k])\n",
    "#         ## the hess\n",
    "#         hess[:,n] = -M * ((d2O * E - O * d2E)*(E**2) - (dO * E - O * dE) * 2. * E * dE) / (E**4)\n",
    "\n",
    "#     grad *= -1.\n",
    "#     hess *= -1.\n",
    "#     # this pure hess doesn't work in my case, but the following works ok\n",
    "#     # use a const\n",
    "#     #hess = 0.000125 * np.ones(grad.shape, dtype=float)\n",
    "#     # or use the following...\n",
    "#     scale = 0.000125 / np.mean(abs(hess))\n",
    "#     hess *= scale\n",
    "#     hess = np.abs(hess) # It works!! no idea...\n",
    "# #     grad.shape = (M*N)\n",
    "# #     hess.shape = (M*N)\n",
    "#     return grad.shape, hess.shape\n",
    "\n",
    "# # evalerror is your customized evaluation function to \n",
    "# # 1) decode the class probability \n",
    "# # 2) compute quadratic weighted kappa\n",
    "# def evalerror(preds, dtrain):\n",
    "#     ## label are in [0,1,2,3] as required by XGBoost for multi-classification\n",
    "#     labels = dtrain.get_label() + 1\n",
    "#     ## class probability\n",
    "#     preds = softmax(preds)\n",
    "#     ## decoding (naive argmax decoding)\n",
    "#     pred_labels = np.argmax(preds, axis=1) + 1\n",
    "#     ## compute quadratic weighted kappa (using implementation from @Ben Hamner\n",
    "#     ## https://github.com/benhamner/Metrics/blob/master/Python/ml_metrics/quadratic_weighted_kappa.py\n",
    "#     kappa = quadratic_weighted_kappa(labels, pred_labels)\n",
    "#     return 'kappa', kappa"
   ]
  },
  {
   "cell_type": "code",
   "execution_count": 90,
   "metadata": {
    "_uuid": "9d13a4feedff7cc897acbbaf156db353773a86f8"
   },
   "outputs": [],
   "source": [
    "# from sklearn.model_selection import train_test_split\n",
    "# import xgboost as xgb\n",
    "# ####################\n",
    "# ## Model buliding ##\n",
    "# ####################\n",
    "# ## to use the above obj, you have to use the following task param (in addition to your general param and booster param)\n",
    "# ## see https://github.com/dmlc/xgboost/blob/master/doc/parameter.md\n",
    "# param = {\n",
    "#     'objective': 'reg:linear', # for linear raw predict score\n",
    "#     'num_class': 5 # num of classes\n",
    "# }\n",
    "\n",
    "# param['booster'] = 'gblinear'\n",
    "# param['eta'] = 1\n",
    "# param['lambda'] = 0.00005\n",
    "# param['alpha'] = 0.000001\n",
    "\n",
    "# ## data\n",
    "\n",
    "# X_tr, X_val, y_tr, y_val = train_test_split(X_train, y_train, shuffle=True, random_state=42)\n",
    "# dtrain = xgb.DMatrix(X_tr, y_tr)\n",
    "# dvalid = xgb.DMatrix(X_val, y_val)\n",
    "\n",
    "# ## train\n",
    "# num_round = 10\n",
    "# watchlist = [(dtrain, 'train'), (dvalid, \"valid\")]\n",
    "# bst = xgb.train(param, dtrain, num_round, watchlist, obj=softkappaobj, feval=evalerror)\n",
    "\n",
    "# ## make prediction (class probability)\n",
    "# pred = softmax(bst.predict(dvalid))"
   ]
  },
  {
   "cell_type": "code",
   "execution_count": 91,
   "metadata": {
    "_uuid": "9527faa14edcf43cdd4028ebecde6465f49b6f09"
   },
   "outputs": [],
   "source": [
    "# dtrain = xgb.DMatrix(X_tr, label = y_tr)\n",
    "# dvalid = xgb.DMatrix(X_val, label = y_val)"
   ]
  },
  {
   "cell_type": "code",
   "execution_count": 92,
   "metadata": {
    "_uuid": "29e139f7316010f78d0b1cb2f2a0e10adcdcaacc"
   },
   "outputs": [],
   "source": [
    "# a,b,c,d = train_test_split(X_train, y_train, shuffle=True, random_state=42)"
   ]
  },
  {
   "cell_type": "code",
   "execution_count": 93,
   "metadata": {
    "_uuid": "0b58aa2c91adc1a0ec37cbcc521b8f24f4e667ce"
   },
   "outputs": [],
   "source": [
    "# a.info()"
   ]
  },
  {
   "cell_type": "code",
   "execution_count": 94,
   "metadata": {
    "_uuid": "c60003d82fbcfe4fdcb2842bea73deb5a9d66ae2"
   },
   "outputs": [],
   "source": []
  },
  {
   "cell_type": "code",
   "execution_count": 94,
   "metadata": {
    "_uuid": "5005f3af1410f162c92d498a4036e8b803dbf37e"
   },
   "outputs": [],
   "source": []
  }
 ],
 "metadata": {
  "kernelspec": {
   "display_name": "Python 3",
   "language": "python",
   "name": "python3"
  },
  "language_info": {
   "codemirror_mode": {
    "name": "ipython",
    "version": 3
   },
   "file_extension": ".py",
   "mimetype": "text/x-python",
   "name": "python",
   "nbconvert_exporter": "python",
   "pygments_lexer": "ipython3",
   "version": "3.6.6"
  }
 },
 "nbformat": 4,
 "nbformat_minor": 1
}
